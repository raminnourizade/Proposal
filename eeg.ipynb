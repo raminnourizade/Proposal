{
  "nbformat": 4,
  "nbformat_minor": 0,
  "metadata": {
    "colab": {
      "provenance": [],
      "authorship_tag": "ABX9TyOVsrdUtk4C2xYbeQnKfgOu",
      "include_colab_link": true
    },
    "kernelspec": {
      "name": "python3",
      "display_name": "Python 3"
    },
    "language_info": {
      "name": "python"
    }
  },
  "cells": [
    {
      "cell_type": "markdown",
      "metadata": {
        "id": "view-in-github",
        "colab_type": "text"
      },
      "source": [
        "<a href=\"https://colab.research.google.com/github/raminnourizade/Proposal/blob/main/eeg.ipynb\" target=\"_parent\"><img src=\"https://colab.research.google.com/assets/colab-badge.svg\" alt=\"Open In Colab\"/></a>"
      ]
    },
    {
      "cell_type": "code",
      "source": [
        "!pip install mne"
      ],
      "metadata": {
        "colab": {
          "base_uri": "https://localhost:8080/"
        },
        "id": "htaabcc98yQa",
        "outputId": "0aba247e-ccc7-40fd-f31a-d57835db33d5"
      },
      "execution_count": 1,
      "outputs": [
        {
          "output_type": "stream",
          "name": "stdout",
          "text": [
            "Requirement already satisfied: mne in /usr/local/lib/python3.10/dist-packages (1.6.1)\n",
            "Requirement already satisfied: numpy>=1.21.2 in /usr/local/lib/python3.10/dist-packages (from mne) (1.25.2)\n",
            "Requirement already satisfied: scipy>=1.7.1 in /usr/local/lib/python3.10/dist-packages (from mne) (1.11.4)\n",
            "Requirement already satisfied: matplotlib>=3.5.0 in /usr/local/lib/python3.10/dist-packages (from mne) (3.7.1)\n",
            "Requirement already satisfied: tqdm in /usr/local/lib/python3.10/dist-packages (from mne) (4.66.2)\n",
            "Requirement already satisfied: pooch>=1.5 in /usr/local/lib/python3.10/dist-packages (from mne) (1.8.1)\n",
            "Requirement already satisfied: decorator in /usr/local/lib/python3.10/dist-packages (from mne) (4.4.2)\n",
            "Requirement already satisfied: packaging in /usr/local/lib/python3.10/dist-packages (from mne) (23.2)\n",
            "Requirement already satisfied: jinja2 in /usr/local/lib/python3.10/dist-packages (from mne) (3.1.3)\n",
            "Requirement already satisfied: lazy-loader>=0.3 in /usr/local/lib/python3.10/dist-packages (from mne) (0.3)\n",
            "Requirement already satisfied: contourpy>=1.0.1 in /usr/local/lib/python3.10/dist-packages (from matplotlib>=3.5.0->mne) (1.2.0)\n",
            "Requirement already satisfied: cycler>=0.10 in /usr/local/lib/python3.10/dist-packages (from matplotlib>=3.5.0->mne) (0.12.1)\n",
            "Requirement already satisfied: fonttools>=4.22.0 in /usr/local/lib/python3.10/dist-packages (from matplotlib>=3.5.0->mne) (4.49.0)\n",
            "Requirement already satisfied: kiwisolver>=1.0.1 in /usr/local/lib/python3.10/dist-packages (from matplotlib>=3.5.0->mne) (1.4.5)\n",
            "Requirement already satisfied: pillow>=6.2.0 in /usr/local/lib/python3.10/dist-packages (from matplotlib>=3.5.0->mne) (9.4.0)\n",
            "Requirement already satisfied: pyparsing>=2.3.1 in /usr/local/lib/python3.10/dist-packages (from matplotlib>=3.5.0->mne) (3.1.1)\n",
            "Requirement already satisfied: python-dateutil>=2.7 in /usr/local/lib/python3.10/dist-packages (from matplotlib>=3.5.0->mne) (2.8.2)\n",
            "Requirement already satisfied: platformdirs>=2.5.0 in /usr/local/lib/python3.10/dist-packages (from pooch>=1.5->mne) (4.2.0)\n",
            "Requirement already satisfied: requests>=2.19.0 in /usr/local/lib/python3.10/dist-packages (from pooch>=1.5->mne) (2.31.0)\n",
            "Requirement already satisfied: MarkupSafe>=2.0 in /usr/local/lib/python3.10/dist-packages (from jinja2->mne) (2.1.5)\n",
            "Requirement already satisfied: six>=1.5 in /usr/local/lib/python3.10/dist-packages (from python-dateutil>=2.7->matplotlib>=3.5.0->mne) (1.16.0)\n",
            "Requirement already satisfied: charset-normalizer<4,>=2 in /usr/local/lib/python3.10/dist-packages (from requests>=2.19.0->pooch>=1.5->mne) (3.3.2)\n",
            "Requirement already satisfied: idna<4,>=2.5 in /usr/local/lib/python3.10/dist-packages (from requests>=2.19.0->pooch>=1.5->mne) (3.6)\n",
            "Requirement already satisfied: urllib3<3,>=1.21.1 in /usr/local/lib/python3.10/dist-packages (from requests>=2.19.0->pooch>=1.5->mne) (2.0.7)\n",
            "Requirement already satisfied: certifi>=2017.4.17 in /usr/local/lib/python3.10/dist-packages (from requests>=2.19.0->pooch>=1.5->mne) (2024.2.2)\n"
          ]
        }
      ]
    },
    {
      "cell_type": "code",
      "execution_count": 2,
      "metadata": {
        "id": "6Z1Sm62i3lxh"
      },
      "outputs": [],
      "source": [
        "import gdown\n",
        "import os\n",
        "import numpy as np\n",
        "import pandas as pd\n",
        "import mne\n",
        "from sklearn.model_selection import train_test_split\n",
        "from sklearn.preprocessing import StandardScaler\n",
        "import glob\n",
        "from sklearn.preprocessing import LabelBinarizer\n",
        "import tensorflow as tf\n",
        "import keras\n",
        "from tensorflow.keras import layers\n",
        "import sys\n",
        "os.environ[\"TF_CPP_MIN_LOG_LEVEL\"]=\"3\"\n",
        "import matplotlib.pyplot as plt\n",
        "\n"
      ]
    },
    {
      "cell_type": "code",
      "source": [
        "def load_data():\n",
        "  path=\"dataset\"\n",
        "  if not os.path.exists(path):\n",
        "      os.mkdir(path)\n",
        "      print(f\"Folder {path} created!\")\n",
        "\n",
        "      file_id = \"1hG5v_COjPNzejRaL9XJAFERee9i2_V04\"  # Replace this with your file's ID\n",
        "      output_file = path+\"/eeg.zip\"  # Replace \"data_file.ext\" with the desired output filename and extension\n",
        "      gdown.download(f\"https://drive.google.com/uc?id={file_id}\", output_file)\n",
        "      !unzip \"dataset/eeg.zip\" -d \"dataset\"\n",
        "      os.remove(\"dataset/eeg.zip\")\n",
        "\n",
        "  else:\n",
        "      print(f\"Folder {path} already exists\")\n",
        "\n",
        "\n",
        "\n",
        "  ds_dir = '/content/dataset/'\n",
        "  scaler = StandardScaler()\n",
        "  all_eeg=[]\n",
        "\n",
        "  for (i, item) in enumerate(glob.glob(ds_dir + '*.edf')):\n",
        "    print(item)\n",
        "    raw = mne.io.read_raw_edf(item)\n",
        "    # Filter EEG channels ('P3' and 'C3')\n",
        "    eeg_channels = [ch for ch in raw.info['ch_names'] if ch in ['T3', 'T5', 'T4', 'T6']]\n",
        "    if len(eeg_channels) != 4:\n",
        "        print(f\"Error: 'T3', 'T5', 'T4', 'T6' channels not found in {item}. Skipping...\")\n",
        "        continue\n",
        "\n",
        "    # Create a new Raw object with only EEG channels\n",
        "    raw = raw.copy().pick_channels(eeg_channels)\n",
        "\n",
        "    # Apply bandpass filter (example: 0.1 Hz - 40 Hz)\n",
        "    raw.load_data()  # Load the data into memory\n",
        "    raw.filter(l_freq=0.1, h_freq=40)\n",
        "\n",
        "    # Segment data into epochs (e.g., 1-second epochs)\n",
        "    events = mne.make_fixed_length_events(raw, duration=1.0)\n",
        "    epochs = mne.Epochs(raw, events, tmin=0, tmax=1.0, baseline=None)\n",
        "\n",
        "    X = epochs.get_data()\n",
        "    # Standardize features (Z-score normalization)\n",
        "    n_samples, n_channels, n_time_points = X.shape\n",
        "\n",
        "    # Reshape to 2D (n_samples x (n_channels * n_time_points))\n",
        "    X_reshaped = X.reshape(n_samples, -1)\n",
        "    # Apply StandardScaler\n",
        "    X_scaled = scaler.fit_transform(X_reshaped)\n",
        "\n",
        "    all_eeg.append(X_scaled)\n",
        "\n",
        "\n",
        "  #all_eeg=np.array(all_eeg)\n",
        "\n",
        "  lb=LabelBinarizer()\n",
        "  all_labels = pd.read_excel(\"/content/dataset/states.xlsx\",usecols=[\"status\"])\n",
        "  all_labels=lb.fit_transform(all_labels)\n",
        "\n",
        "  X_train, X_test, y_train, y_test = train_test_split(all_eeg, all_labels, test_size=0.2, random_state=42)\n",
        "\n",
        "  # Convert X_train and X_test to numpy arrays\n",
        "\n",
        "\n",
        "\n",
        "\n",
        "  return  X_train, X_test, y_train, y_test, n_samples, n_channels ,n_time_points"
      ],
      "metadata": {
        "id": "pUrUqz1A8uzq"
      },
      "execution_count": 3,
      "outputs": []
    },
    {
      "cell_type": "code",
      "source": [
        "X_train, X_test, y_train, y_test, n_samples, n_channels ,n_time_points = load_data()\n"
      ],
      "metadata": {
        "id": "McXxG3JWRmSs"
      },
      "execution_count": null,
      "outputs": []
    },
    {
      "cell_type": "code",
      "source": [
        "for x in range(len(X_train)):\n",
        "  X_train[x]=X_train[x][0:1802,0:4883]\n",
        "\n",
        "for x in range(len(X_test)):\n",
        "  X_test[x]=X_test[x][0:1802,0:4883]\n",
        "\n"
      ],
      "metadata": {
        "id": "a1Y9gtThcZS0"
      },
      "execution_count": 5,
      "outputs": []
    },
    {
      "cell_type": "code",
      "source": [
        "for x in range(len(X_train)):\n",
        "  print(np.shape(X_train[x]))"
      ],
      "metadata": {
        "colab": {
          "base_uri": "https://localhost:8080/"
        },
        "id": "sBXOR6iXiE_z",
        "outputId": "dd042848-da7a-45ee-e0dd-1ce1349aee4e"
      },
      "execution_count": 6,
      "outputs": [
        {
          "output_type": "stream",
          "name": "stdout",
          "text": [
            "(1802, 1028)\n",
            "(1802, 1028)\n",
            "(1802, 1028)\n",
            "(1802, 1028)\n",
            "(1802, 1028)\n",
            "(1802, 1028)\n",
            "(1802, 1028)\n",
            "(1802, 1028)\n",
            "(1802, 1028)\n",
            "(1802, 1028)\n",
            "(1802, 1028)\n",
            "(1802, 1028)\n",
            "(1802, 1028)\n",
            "(1802, 1028)\n",
            "(1802, 1028)\n",
            "(1802, 1028)\n",
            "(1802, 1028)\n",
            "(1802, 1028)\n",
            "(1802, 1028)\n",
            "(1802, 1028)\n",
            "(1802, 1028)\n"
          ]
        }
      ]
    },
    {
      "cell_type": "code",
      "source": [
        "X_train=np.stack( X_train, axis=0 )\n",
        "X_train = np.array(X_train)\n",
        "#X_train_reshaped = X_train.reshape(len(X_train), n_channels, n_time_points, 1)\n",
        "\n",
        "X_test=np.stack( X_test, axis=0 )\n",
        "X_test = np.array(X_test)# Reshape the arrays\n",
        "#X_test_reshaped = X_test.reshape(len(X_test), n_channels, n_time_points, 1)\n",
        "\n",
        "\n"
      ],
      "metadata": {
        "id": "6R_Hk9h8TtGI"
      },
      "execution_count": 7,
      "outputs": []
    },
    {
      "cell_type": "code",
      "source": [
        "def create_vit_model(input_shape, num_classes):\n",
        "    inputs = layers.Input(shape=input_shape, name=\"input_layer\")\n",
        "\n",
        "    # Data augmentation\n",
        "    #augmented_inputs = data_augmentation(inputs)\n",
        "    patch_size = 4 # 6\n",
        "    # Patch creation\n",
        "    patches = Patches(patch_size)(inputs)\n",
        "\n",
        "    # Flatten patches\n",
        "    flattened_patches = layers.Flatten()(patches)\n",
        "\n",
        "    # MLP head\n",
        "    mlp_output = layers.Dense(8, activation=\"relu\")(flattened_patches)  # Reduced units\n",
        "    mlp_output = layers.Dropout(0.1)(mlp_output)\n",
        "    #mlp_output = mlp(flattened_patches, mlp_head_units, dropout_rate=0.1)\n",
        "\n",
        "\n",
        "    # Classification head\n",
        "    outputs = layers.Dense(num_classes, activation=\"softmax\", name=\"output_layer\")(mlp_output)\n",
        "\n",
        "    model = keras.Model(inputs=inputs, outputs=outputs)\n",
        "    return model\n"
      ],
      "metadata": {
        "id": "JkhG35S-dXDf"
      },
      "execution_count": 8,
      "outputs": []
    },
    {
      "cell_type": "code",
      "source": [
        "class Patches(layers.Layer):\n",
        "    def __init__(self, patch_size):\n",
        "        super().__init__()\n",
        "        self.patch_size = patch_size\n",
        "\n",
        "    def call(self, images):\n",
        "        input_shape = tf.shape(images)\n",
        "        batch_size = input_shape[0]\n",
        "        height = input_shape[1]\n",
        "        width = input_shape[2]\n",
        "        channels = input_shape[3]  # Assuming RGB images (3 channels)\n",
        "\n",
        "        num_patches_h = height // self.patch_size\n",
        "        num_patches_w = width // self.patch_size\n",
        "\n",
        "        patches = tf.image.extract_patches(images, sizes=[1, self.patch_size, self.patch_size, 1], strides=[1, self.patch_size, self.patch_size, 1], rates=[1, 1, 1, 1], padding=\"VALID\")\n",
        "        patches = tf.reshape(patches, (batch_size, num_patches_h * num_patches_w, self.patch_size * self.patch_size * channels))\n",
        "\n",
        "        return patches\n"
      ],
      "metadata": {
        "id": "CiRCRNjVnEux"
      },
      "execution_count": 9,
      "outputs": []
    },
    {
      "cell_type": "code",
      "source": [
        "def mlp(x, hidden_units, dropout_rate):\n",
        "    for units in hidden_units:\n",
        "        x = layers.Dense(units, activation=\"relu\")(x)\n",
        "        x = layers.Dropout(dropout_rate)(x)\n",
        "    return x\n"
      ],
      "metadata": {
        "id": "lYRj0lWQoue7"
      },
      "execution_count": 10,
      "outputs": []
    },
    {
      "cell_type": "code",
      "source": [
        "mlp_head_units =[64, 32]  ##[128, 64]  #  [256, 128]\n"
      ],
      "metadata": {
        "id": "tmhBDx4Hpqi9"
      },
      "execution_count": 11,
      "outputs": []
    },
    {
      "cell_type": "code",
      "source": [
        "#input_shape = (21, 1802, 514)\n",
        "input_shape = (1802, 1028,1)"
      ],
      "metadata": {
        "id": "Km8osmfYc9Ya"
      },
      "execution_count": 20,
      "outputs": []
    },
    {
      "cell_type": "code",
      "source": [
        "input_shape = X_train.shape[1:]"
      ],
      "metadata": {
        "id": "Q-i1DjGjU_2Y"
      },
      "execution_count": 17,
      "outputs": []
    },
    {
      "cell_type": "code",
      "source": [
        "print(\"Shapes of training data and labels:\")\n",
        "print(\"X_train shape:\", X_train.shape)\n",
        "print(\"y_train shape:\", y_train.shape)\n",
        "\n",
        "print(\"Shapes of testing data and labels:\")\n",
        "print(\"X_test shape:\", X_test.shape)\n",
        "print(\"y_test shape:\", y_test.shape)"
      ],
      "metadata": {
        "colab": {
          "base_uri": "https://localhost:8080/"
        },
        "id": "TKPfQGuValZa",
        "outputId": "fa45dfa2-8ee4-4d69-dc3c-01172015fbf0"
      },
      "execution_count": 19,
      "outputs": [
        {
          "output_type": "stream",
          "name": "stdout",
          "text": [
            "Shapes of training data and labels:\n",
            "X_train shape: (21, 1802, 1028)\n",
            "y_train shape: (21, 1)\n",
            "Shapes of testing data and labels:\n",
            "X_test shape: (6, 1802, 1028)\n",
            "y_test shape: (6, 1)\n"
          ]
        }
      ]
    },
    {
      "cell_type": "code",
      "source": [
        "#input_shape = ( 21, 1802, 514)# (21,1802, 514) # (21,1805, 4883)\n",
        "vit_model = create_vit_model(input_shape, 2)\n",
        "vit_model.summary()\n"
      ],
      "metadata": {
        "id": "rIvoJiJqmacf",
        "colab": {
          "base_uri": "https://localhost:8080/"
        },
        "outputId": "2c38aedd-15c3-4815-95f4-6225041c3c7d"
      },
      "execution_count": 21,
      "outputs": [
        {
          "output_type": "stream",
          "name": "stdout",
          "text": [
            "Model: \"model_1\"\n",
            "_________________________________________________________________\n",
            " Layer (type)                Output Shape              Param #   \n",
            "=================================================================\n",
            " input_layer (InputLayer)    [(None, 1802, 1028, 1)]   0         \n",
            "                                                                 \n",
            " patches_1 (Patches)         (None, 115650, 16)        0         \n",
            "                                                                 \n",
            " flatten_1 (Flatten)         (None, 1850400)           0         \n",
            "                                                                 \n",
            " dense_1 (Dense)             (None, 8)                 14803208  \n",
            "                                                                 \n",
            " dropout_1 (Dropout)         (None, 8)                 0         \n",
            "                                                                 \n",
            " output_layer (Dense)        (None, 2)                 18        \n",
            "                                                                 \n",
            "=================================================================\n",
            "Total params: 14803226 (56.47 MB)\n",
            "Trainable params: 14803226 (56.47 MB)\n",
            "Non-trainable params: 0 (0.00 Byte)\n",
            "_________________________________________________________________\n"
          ]
        }
      ]
    },
    {
      "cell_type": "code",
      "source": [
        "vit_model.compile(optimizer=\"adam\", loss=\"sparse_categorical_crossentropy\", metrics=[\"accuracy\"])"
      ],
      "metadata": {
        "id": "KuqssaF2p5t-"
      },
      "execution_count": 22,
      "outputs": []
    },
    {
      "cell_type": "code",
      "source": [
        "history = vit_model.fit(X_train, y_train, batch_size=16, epochs=10, validation_data=(X_test, y_test))"
      ],
      "metadata": {
        "id": "0mCP-3Iip_c_",
        "colab": {
          "base_uri": "https://localhost:8080/"
        },
        "outputId": "2630b25b-0b9e-4307-82df-8c053f902bbe"
      },
      "execution_count": 23,
      "outputs": [
        {
          "output_type": "stream",
          "name": "stdout",
          "text": [
            "Epoch 1/10\n",
            "2/2 [==============================] - 3s 1s/step - loss: 4.4720 - accuracy: 0.5238 - val_loss: 23.9181 - val_accuracy: 0.6667\n",
            "Epoch 2/10\n",
            "2/2 [==============================] - 3s 2s/step - loss: 0.1250 - accuracy: 0.9048 - val_loss: 38.0141 - val_accuracy: 0.5000\n",
            "Epoch 3/10\n",
            "2/2 [==============================] - 2s 918ms/step - loss: 0.0330 - accuracy: 1.0000 - val_loss: 49.6534 - val_accuracy: 0.5000\n",
            "Epoch 4/10\n",
            "2/2 [==============================] - 2s 1s/step - loss: 2.5256 - accuracy: 0.9524 - val_loss: 50.8667 - val_accuracy: 0.5000\n",
            "Epoch 5/10\n",
            "2/2 [==============================] - 2s 844ms/step - loss: 0.0658 - accuracy: 1.0000 - val_loss: 51.7635 - val_accuracy: 0.5000\n",
            "Epoch 6/10\n",
            "2/2 [==============================] - 2s 1s/step - loss: 0.0329 - accuracy: 1.0000 - val_loss: 52.4875 - val_accuracy: 0.5000\n",
            "Epoch 7/10\n",
            "2/2 [==============================] - 2s 1s/step - loss: 0.7768 - accuracy: 0.9524 - val_loss: 55.5827 - val_accuracy: 0.5000\n",
            "Epoch 8/10\n",
            "2/2 [==============================] - 3s 1s/step - loss: 5.7526 - accuracy: 0.9524 - val_loss: 61.9355 - val_accuracy: 0.5000\n",
            "Epoch 9/10\n",
            "2/2 [==============================] - 2s 918ms/step - loss: 0.0327 - accuracy: 1.0000 - val_loss: 67.0507 - val_accuracy: 0.5000\n",
            "Epoch 10/10\n",
            "2/2 [==============================] - 2s 1s/step - loss: 8.0028 - accuracy: 0.9048 - val_loss: 71.7775 - val_accuracy: 0.5000\n"
          ]
        }
      ]
    },
    {
      "cell_type": "code",
      "source": [
        "test_loss, test_accuracy = vit_model.evaluate(X_test, y_test)\n",
        "print(f\"Test Loss: {test_loss:.4f}, Test Accuracy: {test_accuracy:.4f}\")"
      ],
      "metadata": {
        "id": "RGH2pQvPqD17",
        "colab": {
          "base_uri": "https://localhost:8080/"
        },
        "outputId": "f7401d1d-1277-42c3-f2b0-b0cb7f9c0a47"
      },
      "execution_count": 40,
      "outputs": [
        {
          "output_type": "stream",
          "name": "stdout",
          "text": [
            "1/1 [==============================] - 0s 249ms/step - loss: 83.3597 - accuracy: 0.6667\n",
            "Test Loss: 83.3597, Test Accuracy: 0.6667\n"
          ]
        }
      ]
    },
    {
      "cell_type": "code",
      "source": [
        "# Plot training & validation loss\n",
        "plt.plot(history.history['loss'])\n",
        "plt.plot(history.history['val_loss'])\n",
        "plt.title('Model loss')\n",
        "plt.ylabel('Loss')\n",
        "plt.xlabel('Epoch')\n",
        "plt.legend(['Train', 'Validation'], loc='upper left')\n",
        "plt.show()"
      ],
      "metadata": {
        "id": "Pg9FLoBAZ5dF",
        "outputId": "bed0c035-b349-4936-9751-6b91bd413b6b",
        "colab": {
          "base_uri": "https://localhost:8080/",
          "height": 472
        }
      },
      "execution_count": 24,
      "outputs": [
        {
          "output_type": "display_data",
          "data": {
            "text/plain": [
              "<Figure size 640x480 with 1 Axes>"
            ],
            "image/png": "[encoded data removed]"
          },
          "metadata": {}
        }
      ]
    }
  ]
}