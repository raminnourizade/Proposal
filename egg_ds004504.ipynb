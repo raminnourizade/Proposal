{
  "nbformat": 4,
  "nbformat_minor": 0,
  "metadata": {
    "colab": {
      "provenance": [],
      "authorship_tag": "ABX9TyOEhaolJaFe+c2eZOz7aJz6",
      "include_colab_link": true
    },
    "kernelspec": {
      "name": "python3",
      "display_name": "Python 3"
    },
    "language_info": {
      "name": "python"
    }
  },
  "cells": [
    {
      "cell_type": "markdown",
      "metadata": {
        "id": "view-in-github",
        "colab_type": "text"
      },
      "source": [
        "<a href=\"https://colab.research.google.com/github/raminnourizade/Proposal/blob/main/egg_ds004504.ipynb\" target=\"_parent\"><img src=\"https://colab.research.google.com/assets/colab-badge.svg\" alt=\"Open In Colab\"/></a>"
      ]
    },
    {
      "cell_type": "code",
      "execution_count": 1,
      "metadata": {
        "colab": {
          "base_uri": "https://localhost:8080/"
        },
        "id": "KvbHMZppaN4V",
        "outputId": "e43737ba-c92a-41f7-cc9e-54643a2ed606"
      },
      "outputs": [
        {
          "output_type": "stream",
          "name": "stdout",
          "text": [
            "Collecting mne\n",
            "  Downloading mne-1.6.1-py3-none-any.whl (8.3 MB)\n",
            "\u001b[2K     \u001b[90m━━━━━━━━━━━━━━━━━━━━━━━━━━━━━━━━━━━━━━━━\u001b[0m \u001b[32m8.3/8.3 MB\u001b[0m \u001b[31m25.3 MB/s\u001b[0m eta \u001b[36m0:00:00\u001b[0m\n",
            "\u001b[?25hRequirement already satisfied: numpy>=1.21.2 in /usr/local/lib/python3.10/dist-packages (from mne) (1.25.2)\n",
            "Requirement already satisfied: scipy>=1.7.1 in /usr/local/lib/python3.10/dist-packages (from mne) (1.11.4)\n",
            "Requirement already satisfied: matplotlib>=3.5.0 in /usr/local/lib/python3.10/dist-packages (from mne) (3.7.1)\n",
            "Requirement already satisfied: tqdm in /usr/local/lib/python3.10/dist-packages (from mne) (4.66.2)\n",
            "Requirement already satisfied: pooch>=1.5 in /usr/local/lib/python3.10/dist-packages (from mne) (1.8.1)\n",
            "Requirement already satisfied: decorator in /usr/local/lib/python3.10/dist-packages (from mne) (4.4.2)\n",
            "Requirement already satisfied: packaging in /usr/local/lib/python3.10/dist-packages (from mne) (24.0)\n",
            "Requirement already satisfied: jinja2 in /usr/local/lib/python3.10/dist-packages (from mne) (3.1.3)\n",
            "Requirement already satisfied: lazy-loader>=0.3 in /usr/local/lib/python3.10/dist-packages (from mne) (0.3)\n",
            "Requirement already satisfied: contourpy>=1.0.1 in /usr/local/lib/python3.10/dist-packages (from matplotlib>=3.5.0->mne) (1.2.0)\n",
            "Requirement already satisfied: cycler>=0.10 in /usr/local/lib/python3.10/dist-packages (from matplotlib>=3.5.0->mne) (0.12.1)\n",
            "Requirement already satisfied: fonttools>=4.22.0 in /usr/local/lib/python3.10/dist-packages (from matplotlib>=3.5.0->mne) (4.49.0)\n",
            "Requirement already satisfied: kiwisolver>=1.0.1 in /usr/local/lib/python3.10/dist-packages (from matplotlib>=3.5.0->mne) (1.4.5)\n",
            "Requirement already satisfied: pillow>=6.2.0 in /usr/local/lib/python3.10/dist-packages (from matplotlib>=3.5.0->mne) (9.4.0)\n",
            "Requirement already satisfied: pyparsing>=2.3.1 in /usr/local/lib/python3.10/dist-packages (from matplotlib>=3.5.0->mne) (3.1.2)\n",
            "Requirement already satisfied: python-dateutil>=2.7 in /usr/local/lib/python3.10/dist-packages (from matplotlib>=3.5.0->mne) (2.8.2)\n",
            "Requirement already satisfied: platformdirs>=2.5.0 in /usr/local/lib/python3.10/dist-packages (from pooch>=1.5->mne) (4.2.0)\n",
            "Requirement already satisfied: requests>=2.19.0 in /usr/local/lib/python3.10/dist-packages (from pooch>=1.5->mne) (2.31.0)\n",
            "Requirement already satisfied: MarkupSafe>=2.0 in /usr/local/lib/python3.10/dist-packages (from jinja2->mne) (2.1.5)\n",
            "Requirement already satisfied: six>=1.5 in /usr/local/lib/python3.10/dist-packages (from python-dateutil>=2.7->matplotlib>=3.5.0->mne) (1.16.0)\n",
            "Requirement already satisfied: charset-normalizer<4,>=2 in /usr/local/lib/python3.10/dist-packages (from requests>=2.19.0->pooch>=1.5->mne) (3.3.2)\n",
            "Requirement already satisfied: idna<4,>=2.5 in /usr/local/lib/python3.10/dist-packages (from requests>=2.19.0->pooch>=1.5->mne) (3.6)\n",
            "Requirement already satisfied: urllib3<3,>=1.21.1 in /usr/local/lib/python3.10/dist-packages (from requests>=2.19.0->pooch>=1.5->mne) (2.0.7)\n",
            "Requirement already satisfied: certifi>=2017.4.17 in /usr/local/lib/python3.10/dist-packages (from requests>=2.19.0->pooch>=1.5->mne) (2024.2.2)\n",
            "Installing collected packages: mne\n",
            "Successfully installed mne-1.6.1\n"
          ]
        }
      ],
      "source": [
        "!pip install mne"
      ]
    },
    {
      "cell_type": "code",
      "source": [
        " pip install -q kaggle"
      ],
      "metadata": {
        "id": "DvY4h9DYOLYv"
      },
      "execution_count": 2,
      "outputs": []
    },
    {
      "cell_type": "code",
      "source": [
        "from google.colab import files\n",
        "files.upload()"
      ],
      "metadata": {
        "id": "Fjg0yfGCOQf8",
        "outputId": "104228e9-0135-4793-b63b-aab6b85e8d1c",
        "colab": {
          "base_uri": "https://localhost:8080/",
          "height": 90
        }
      },
      "execution_count": 12,
      "outputs": [
        {
          "output_type": "display_data",
          "data": {
            "text/plain": [
              "<IPython.core.display.HTML object>"
            ],
            "text/html": [
              "\n",
              "     <input type=\"file\" id=\"files-8b6e1772-e845-430b-af10-fab7b0775e78\" name=\"files[]\" multiple disabled\n",
              "        style=\"border:none\" />\n",
              "     <output id=\"result-8b6e1772-e845-430b-af10-fab7b0775e78\">\n",
              "      Upload widget is only available when the cell has been executed in the\n",
              "      current browser session. Please rerun this cell to enable.\n",
              "      </output>\n",
              "      <script>// Copyright 2017 Google LLC\n",
              "//\n",
              "// Licensed under the Apache License, Version 2.0 (the \"License\");\n",
              "// you may not use this file except in compliance with the License.\n",
              "// You may obtain a copy of the License at\n",
              "//\n",
              "//      http://www.apache.org/licenses/LICENSE-2.0\n",
              "//\n",
              "// Unless required by applicable law or agreed to in writing, software\n",
              "// distributed under the License is distributed on an \"AS IS\" BASIS,\n",
              "// WITHOUT WARRANTIES OR CONDITIONS OF ANY KIND, either express or implied.\n",
              "// See the License for the specific language governing permissions and\n",
              "// limitations under the License.\n",
              "\n",
              "/**\n",
              " * @fileoverview Helpers for google.colab Python module.\n",
              " */\n",
              "(function(scope) {\n",
              "function span(text, styleAttributes = {}) {\n",
              "  const element = document.createElement('span');\n",
              "  element.textContent = text;\n",
              "  for (const key of Object.keys(styleAttributes)) {\n",
              "    element.style[key] = styleAttributes[key];\n",
              "  }\n",
              "  return element;\n",
              "}\n",
              "\n",
              "// Max number of bytes which will be uploaded at a time.\n",
              "const MAX_PAYLOAD_SIZE = 100 * 1024;\n",
              "\n",
              "function _uploadFiles(inputId, outputId) {\n",
              "  const steps = uploadFilesStep(inputId, outputId);\n",
              "  const outputElement = document.getElementById(outputId);\n",
              "  // Cache steps on the outputElement to make it available for the next call\n",
              "  // to uploadFilesContinue from Python.\n",
              "  outputElement.steps = steps;\n",
              "\n",
              "  return _uploadFilesContinue(outputId);\n",
              "}\n",
              "\n",
              "// This is roughly an async generator (not supported in the browser yet),\n",
              "// where there are multiple asynchronous steps and the Python side is going\n",
              "// to poll for completion of each step.\n",
              "// This uses a Promise to block the python side on completion of each step,\n",
              "// then passes the result of the previous step as the input to the next step.\n",
              "function _uploadFilesContinue(outputId) {\n",
              "  const outputElement = document.getElementById(outputId);\n",
              "  const steps = outputElement.steps;\n",
              "\n",
              "  const next = steps.next(outputElement.lastPromiseValue);\n",
              "  return Promise.resolve(next.value.promise).then((value) => {\n",
              "    // Cache the last promise value to make it available to the next\n",
              "    // step of the generator.\n",
              "    outputElement.lastPromiseValue = value;\n",
              "    return next.value.response;\n",
              "  });\n",
              "}\n",
              "\n",
              "/**\n",
              " * Generator function which is called between each async step of the upload\n",
              " * process.\n",
              " * @param {string} inputId Element ID of the input file picker element.\n",
              " * @param {string} outputId Element ID of the output display.\n",
              " * @return {!Iterable<!Object>} Iterable of next steps.\n",
              " */\n",
              "function* uploadFilesStep(inputId, outputId) {\n",
              "  const inputElement = document.getElementById(inputId);\n",
              "  inputElement.disabled = false;\n",
              "\n",
              "  const outputElement = document.getElementById(outputId);\n",
              "  outputElement.innerHTML = '';\n",
              "\n",
              "  const pickedPromise = new Promise((resolve) => {\n",
              "    inputElement.addEventListener('change', (e) => {\n",
              "      resolve(e.target.files);\n",
              "    });\n",
              "  });\n",
              "\n",
              "  const cancel = document.createElement('button');\n",
              "  inputElement.parentElement.appendChild(cancel);\n",
              "  cancel.textContent = 'Cancel upload';\n",
              "  const cancelPromise = new Promise((resolve) => {\n",
              "    cancel.onclick = () => {\n",
              "      resolve(null);\n",
              "    };\n",
              "  });\n",
              "\n",
              "  // Wait for the user to pick the files.\n",
              "  const files = yield {\n",
              "    promise: Promise.race([pickedPromise, cancelPromise]),\n",
              "    response: {\n",
              "      action: 'starting',\n",
              "    }\n",
              "  };\n",
              "\n",
              "  cancel.remove();\n",
              "\n",
              "  // Disable the input element since further picks are not allowed.\n",
              "  inputElement.disabled = true;\n",
              "\n",
              "  if (!files) {\n",
              "    return {\n",
              "      response: {\n",
              "        action: 'complete',\n",
              "      }\n",
              "    };\n",
              "  }\n",
              "\n",
              "  for (const file of files) {\n",
              "    const li = document.createElement('li');\n",
              "    li.append(span(file.name, {fontWeight: 'bold'}));\n",
              "    li.append(span(\n",
              "        `(${file.type || 'n/a'}) - ${file.size} bytes, ` +\n",
              "        `last modified: ${\n",
              "            file.lastModifiedDate ? file.lastModifiedDate.toLocaleDateString() :\n",
              "                                    'n/a'} - `));\n",
              "    const percent = span('0% done');\n",
              "    li.appendChild(percent);\n",
              "\n",
              "    outputElement.appendChild(li);\n",
              "\n",
              "    const fileDataPromise = new Promise((resolve) => {\n",
              "      const reader = new FileReader();\n",
              "      reader.onload = (e) => {\n",
              "        resolve(e.target.result);\n",
              "      };\n",
              "      reader.readAsArrayBuffer(file);\n",
              "    });\n",
              "    // Wait for the data to be ready.\n",
              "    let fileData = yield {\n",
              "      promise: fileDataPromise,\n",
              "      response: {\n",
              "        action: 'continue',\n",
              "      }\n",
              "    };\n",
              "\n",
              "    // Use a chunked sending to avoid message size limits. See b/62115660.\n",
              "    let position = 0;\n",
              "    do {\n",
              "      const length = Math.min(fileData.byteLength - position, MAX_PAYLOAD_SIZE);\n",
              "      const chunk = new Uint8Array(fileData, position, length);\n",
              "      position += length;\n",
              "\n",
              "      const base64 = btoa(String.fromCharCode.apply(null, chunk));\n",
              "      yield {\n",
              "        response: {\n",
              "          action: 'append',\n",
              "          file: file.name,\n",
              "          data: base64,\n",
              "        },\n",
              "      };\n",
              "\n",
              "      let percentDone = fileData.byteLength === 0 ?\n",
              "          100 :\n",
              "          Math.round((position / fileData.byteLength) * 100);\n",
              "      percent.textContent = `${percentDone}% done`;\n",
              "\n",
              "    } while (position < fileData.byteLength);\n",
              "  }\n",
              "\n",
              "  // All done.\n",
              "  yield {\n",
              "    response: {\n",
              "      action: 'complete',\n",
              "    }\n",
              "  };\n",
              "}\n",
              "\n",
              "scope.google = scope.google || {};\n",
              "scope.google.colab = scope.google.colab || {};\n",
              "scope.google.colab._files = {\n",
              "  _uploadFiles,\n",
              "  _uploadFilesContinue,\n",
              "};\n",
              "})(self);\n",
              "</script> "
            ]
          },
          "metadata": {}
        },
        {
          "output_type": "stream",
          "name": "stdout",
          "text": [
            "Saving kaggle.json to kaggle (1).json\n"
          ]
        },
        {
          "output_type": "execute_result",
          "data": {
            "text/plain": [
              "{'kaggle (1).json': b'{\"username\":\"raminnourizadeh\",\"key\":\"b0cd465e908eb8b5f9234b3ae3a80e68\"}'}"
            ]
          },
          "metadata": {},
          "execution_count": 12
        }
      ]
    },
    {
      "cell_type": "code",
      "source": [
        "! mkdir ~/.kaggle"
      ],
      "metadata": {
        "id": "skBjui6VOX3N"
      },
      "execution_count": 4,
      "outputs": []
    },
    {
      "cell_type": "code",
      "source": [
        "! cp kaggle.json ~/.kaggle/"
      ],
      "metadata": {
        "id": "ioZpwiO5OanU"
      },
      "execution_count": 13,
      "outputs": []
    },
    {
      "cell_type": "code",
      "source": [
        "! chmod 600 ~/.kaggle/kaggle.json"
      ],
      "metadata": {
        "id": "7p3H_dWrOdVk"
      },
      "execution_count": 6,
      "outputs": []
    },
    {
      "cell_type": "code",
      "source": [
        "! kaggle datasets list"
      ],
      "metadata": {
        "id": "sa0cGsZXOgxK",
        "outputId": "91d2cfd0-4eef-4612-b625-0169b755066a",
        "colab": {
          "base_uri": "https://localhost:8080/"
        }
      },
      "execution_count": 14,
      "outputs": [
        {
          "output_type": "stream",
          "name": "stdout",
          "text": [
            "Warning: Looks like you're using an outdated API Version, please consider updating (server 1.6.7 / client 1.5.16)\n",
            "ref                                                 title                                    size  lastUpdated          downloadCount  voteCount  usabilityRating  \n",
            "--------------------------------------------------  --------------------------------------  -----  -------------------  -------------  ---------  ---------------  \n",
            "syedanwarafridi/vehicle-sales-data                  Vehicle Sales Data                       19MB  2024-02-21 20:16:17          11993        226  1.0              \n",
            "sudarshan24byte/online-food-dataset                 Online Food Dataset                       3KB  2024-03-02 18:50:30           2015         38  0.9411765        \n",
            "arnavvvvv/spotify-music                             Top Spotify Songs                        47KB  2024-03-06 05:20:29           2855         50  1.0              \n",
            "tarunrm09/climate-change-indicators                 Climate change Indicators                34KB  2024-02-22 08:53:54           6309        134  1.0              \n",
            "nbroad/gemma-rewrite-nbroad                         gemma-rewrite-nbroad                      8MB  2024-03-03 04:52:39            597         60  1.0              \n",
            "bhavikjikadara/student-study-performance            Student Study Performance                 9KB  2024-03-07 06:14:09           1819         46  1.0              \n",
            "arnavvvvv/netflix-movies-and-tv-shows               Netflix Movies and TV Shows               1MB  2024-03-04 15:49:29           2576         51  1.0              \n",
            "yaminh/smartphone-sale-dataset                      Smartphones Sales Dataset                65KB  2024-03-03 16:48:27           2593         35  0.88235295       \n",
            "sumanthnimmagadda/student-spending-dataset          Student spending habits dataset.         29KB  2024-03-05 15:01:06           1762         28  0.9411765        \n",
            "kanyianalyst/car-evaluation-dataset                 car evaluation dataset                    4KB  2024-02-24 12:39:58           1213         24  1.0              \n",
            "arnavvvvv/pokemon-pokedex                           Pokemon Pokedex with Stats               21KB  2024-03-10 11:57:55            558         29  1.0              \n",
            "mikhail1681/walmart-sales                           Walmart Sales                           122KB  2024-02-13 17:35:56           7432        101  1.0              \n",
            "l3llff/banana                                       🍌 | Banana Quality                      271KB  2024-03-03 12:20:13           2163         44  1.0              \n",
            "mahad049/heart-health-stats-dataset                 Heart Health Stats Dataset                5KB  2024-02-26 17:44:27            895         22  0.88235295       \n",
            "zain280/data-science-salaries                       Data Science Salaries                     7KB  2024-02-27 13:26:58           1614         30  1.0              \n",
            "nelgiriyewithana/emotions                           Emotions                                 16MB  2024-02-05 16:01:39           7011        183  1.0              \n",
            "nartaa/features-head-starter-models                 Features+Head Starter Models              3GB  2024-03-11 20:44:27            207         11  1.0              \n",
            "parasrupani/coffee-distribution-across-94-counties  Coffee Distribution Across 94 Counties  220KB  2024-02-28 01:49:07           1640         32  1.0              \n",
            "simaanjali/emotion-analysis-based-on-text           emotion analysis based on text           32MB  2024-03-05 04:12:15            558         31  1.0              \n",
            "mahad049/college-placement                          college placement                        706B  2024-03-04 04:20:09            621         21  0.9411765        \n"
          ]
        }
      ]
    },
    {
      "cell_type": "code",
      "source": [
        "!kaggle datasets download -d bahoho/alzheimer-derivative-ds004504"
      ],
      "metadata": {
        "id": "olgKy29nOmGh",
        "outputId": "cf81953e-4696-4076-a7d5-7c23e8b93958",
        "colab": {
          "base_uri": "https://localhost:8080/"
        }
      },
      "execution_count": 15,
      "outputs": [
        {
          "output_type": "stream",
          "name": "stdout",
          "text": [
            "Downloading alzheimer-derivative-ds004504.zip to /content\n",
            "100% 2.36G/2.37G [00:36<00:00, 29.2MB/s]\n",
            "100% 2.37G/2.37G [00:36<00:00, 70.1MB/s]\n"
          ]
        }
      ]
    },
    {
      "cell_type": "code",
      "source": [
        "! mkdir train"
      ],
      "metadata": {
        "id": "54aWkPtuOxDa"
      },
      "execution_count": 16,
      "outputs": []
    },
    {
      "cell_type": "code",
      "source": [
        "! unzip '/content/alzheimer-derivative-ds004504.zip' -d train\n",
        "\n"
      ],
      "metadata": {
        "id": "dCGLOJheO8AV",
        "outputId": "3650bdc9-b789-4a74-96de-20dfbc8420b0",
        "colab": {
          "base_uri": "https://localhost:8080/"
        }
      },
      "execution_count": 17,
      "outputs": [
        {
          "output_type": "stream",
          "name": "stdout",
          "text": [
            "Archive:  /content/alzheimer-derivative-ds004504.zip\n",
            "  inflating: train/derivatives/sub-001/eeg/sub-001_task-eyesclosed_eeg.set  \n",
            "  inflating: train/derivatives/sub-002/eeg/sub-002_task-eyesclosed_eeg.set  \n",
            "  inflating: train/derivatives/sub-003/eeg/sub-003_task-eyesclosed_eeg.set  \n",
            "  inflating: train/derivatives/sub-004/eeg/sub-004_task-eyesclosed_eeg.set  \n",
            "  inflating: train/derivatives/sub-005/eeg/sub-005_task-eyesclosed_eeg.set  \n",
            "  inflating: train/derivatives/sub-006/eeg/sub-006_task-eyesclosed_eeg.set  \n",
            "  inflating: train/derivatives/sub-007/eeg/sub-007_task-eyesclosed_eeg.set  \n",
            "  inflating: train/derivatives/sub-008/eeg/sub-008_task-eyesclosed_eeg.set  \n",
            "  inflating: train/derivatives/sub-009/eeg/sub-009_task-eyesclosed_eeg.set  \n",
            "  inflating: train/derivatives/sub-010/eeg/sub-010_task-eyesclosed_eeg.set  \n",
            "  inflating: train/derivatives/sub-011/eeg/sub-011_task-eyesclosed_eeg.set  \n",
            "  inflating: train/derivatives/sub-012/eeg/sub-012_task-eyesclosed_eeg.set  \n",
            "  inflating: train/derivatives/sub-013/eeg/sub-013_task-eyesclosed_eeg.set  \n",
            "  inflating: train/derivatives/sub-014/eeg/sub-014_task-eyesclosed_eeg.set  \n",
            "  inflating: train/derivatives/sub-015/eeg/sub-015_task-eyesclosed_eeg.set  \n",
            "  inflating: train/derivatives/sub-016/eeg/sub-016_task-eyesclosed_eeg.set  \n",
            "  inflating: train/derivatives/sub-017/eeg/sub-017_task-eyesclosed_eeg.set  \n",
            "  inflating: train/derivatives/sub-018/eeg/sub-018_task-eyesclosed_eeg.set  \n",
            "  inflating: train/derivatives/sub-019/eeg/sub-019_task-eyesclosed_eeg.set  \n",
            "  inflating: train/derivatives/sub-020/eeg/sub-020_task-eyesclosed_eeg.set  \n",
            "  inflating: train/derivatives/sub-021/eeg/sub-021_task-eyesclosed_eeg.set  \n",
            "  inflating: train/derivatives/sub-022/eeg/sub-022_task-eyesclosed_eeg.set  \n",
            "  inflating: train/derivatives/sub-023/eeg/sub-023_task-eyesclosed_eeg.set  \n",
            "  inflating: train/derivatives/sub-024/eeg/sub-024_task-eyesclosed_eeg.set  \n",
            "  inflating: train/derivatives/sub-025/eeg/sub-025_task-eyesclosed_eeg.set  \n",
            "  inflating: train/derivatives/sub-026/eeg/sub-026_task-eyesclosed_eeg.set  \n",
            "  inflating: train/derivatives/sub-027/eeg/sub-027_task-eyesclosed_eeg.set  \n",
            "  inflating: train/derivatives/sub-028/eeg/sub-028_task-eyesclosed_eeg.set  \n",
            "  inflating: train/derivatives/sub-029/eeg/sub-029_task-eyesclosed_eeg.set  \n",
            "  inflating: train/derivatives/sub-030/eeg/sub-030_task-eyesclosed_eeg.set  \n",
            "  inflating: train/derivatives/sub-031/eeg/sub-031_task-eyesclosed_eeg.set  \n",
            "  inflating: train/derivatives/sub-032/eeg/sub-032_task-eyesclosed_eeg.set  \n",
            "  inflating: train/derivatives/sub-033/eeg/sub-033_task-eyesclosed_eeg.set  \n",
            "  inflating: train/derivatives/sub-034/eeg/sub-034_task-eyesclosed_eeg.set  \n",
            "  inflating: train/derivatives/sub-035/eeg/sub-035_task-eyesclosed_eeg.set  \n",
            "  inflating: train/derivatives/sub-036/eeg/sub-036_task-eyesclosed_eeg.set  \n",
            "  inflating: train/derivatives/sub-037/eeg/sub-037_task-eyesclosed_eeg.set  \n",
            "  inflating: train/derivatives/sub-038/eeg/sub-038_task-eyesclosed_eeg.set  \n",
            "  inflating: train/derivatives/sub-039/eeg/sub-039_task-eyesclosed_eeg.set  \n",
            "  inflating: train/derivatives/sub-040/eeg/sub-040_task-eyesclosed_eeg.set  \n",
            "  inflating: train/derivatives/sub-041/eeg/sub-041_task-eyesclosed_eeg.set  \n",
            "  inflating: train/derivatives/sub-042/eeg/sub-042_task-eyesclosed_eeg.set  \n",
            "  inflating: train/derivatives/sub-043/eeg/sub-043_task-eyesclosed_eeg.set  \n",
            "  inflating: train/derivatives/sub-044/eeg/sub-044_task-eyesclosed_eeg.set  \n",
            "  inflating: train/derivatives/sub-045/eeg/sub-045_task-eyesclosed_eeg.set  \n",
            "  inflating: train/derivatives/sub-046/eeg/sub-046_task-eyesclosed_eeg.set  \n",
            "  inflating: train/derivatives/sub-047/eeg/sub-047_task-eyesclosed_eeg.set  \n",
            "  inflating: train/derivatives/sub-048/eeg/sub-048_task-eyesclosed_eeg.set  \n",
            "  inflating: train/derivatives/sub-049/eeg/sub-049_task-eyesclosed_eeg.set  \n",
            "  inflating: train/derivatives/sub-050/eeg/sub-050_task-eyesclosed_eeg.set  \n",
            "  inflating: train/derivatives/sub-051/eeg/sub-051_task-eyesclosed_eeg.set  \n",
            "  inflating: train/derivatives/sub-052/eeg/sub-052_task-eyesclosed_eeg.set  \n",
            "  inflating: train/derivatives/sub-053/eeg/sub-053_task-eyesclosed_eeg.set  \n",
            "  inflating: train/derivatives/sub-054/eeg/sub-054_task-eyesclosed_eeg.set  \n",
            "  inflating: train/derivatives/sub-055/eeg/sub-055_task-eyesclosed_eeg.set  \n",
            "  inflating: train/derivatives/sub-056/eeg/sub-056_task-eyesclosed_eeg.set  \n",
            "  inflating: train/derivatives/sub-057/eeg/sub-057_task-eyesclosed_eeg.set  \n",
            "  inflating: train/derivatives/sub-058/eeg/sub-058_task-eyesclosed_eeg.set  \n",
            "  inflating: train/derivatives/sub-059/eeg/sub-059_task-eyesclosed_eeg.set  \n",
            "  inflating: train/derivatives/sub-060/eeg/sub-060_task-eyesclosed_eeg.set  \n",
            "  inflating: train/derivatives/sub-061/eeg/sub-061_task-eyesclosed_eeg.set  \n",
            "  inflating: train/derivatives/sub-062/eeg/sub-062_task-eyesclosed_eeg.set  \n",
            "  inflating: train/derivatives/sub-063/eeg/sub-063_task-eyesclosed_eeg.set  \n",
            "  inflating: train/derivatives/sub-064/eeg/sub-064_task-eyesclosed_eeg.set  \n",
            "  inflating: train/derivatives/sub-065/eeg/sub-065_task-eyesclosed_eeg.set  \n",
            "  inflating: train/derivatives/sub-066/eeg/sub-066_task-eyesclosed_eeg.set  \n",
            "  inflating: train/derivatives/sub-067/eeg/sub-067_task-eyesclosed_eeg.set  \n",
            "  inflating: train/derivatives/sub-068/eeg/sub-068_task-eyesclosed_eeg.set  \n",
            "  inflating: train/derivatives/sub-069/eeg/sub-069_task-eyesclosed_eeg.set  \n",
            "  inflating: train/derivatives/sub-070/eeg/sub-070_task-eyesclosed_eeg.set  \n",
            "  inflating: train/derivatives/sub-071/eeg/sub-071_task-eyesclosed_eeg.set  \n",
            "  inflating: train/derivatives/sub-072/eeg/sub-072_task-eyesclosed_eeg.set  \n",
            "  inflating: train/derivatives/sub-073/eeg/sub-073_task-eyesclosed_eeg.set  \n",
            "  inflating: train/derivatives/sub-074/eeg/sub-074_task-eyesclosed_eeg.set  \n",
            "  inflating: train/derivatives/sub-075/eeg/sub-075_task-eyesclosed_eeg.set  \n",
            "  inflating: train/derivatives/sub-076/eeg/sub-076_task-eyesclosed_eeg.set  \n",
            "  inflating: train/derivatives/sub-077/eeg/sub-077_task-eyesclosed_eeg.set  \n",
            "  inflating: train/derivatives/sub-078/eeg/sub-078_task-eyesclosed_eeg.set  \n",
            "  inflating: train/derivatives/sub-079/eeg/sub-079_task-eyesclosed_eeg.set  \n",
            "  inflating: train/derivatives/sub-080/eeg/sub-080_task-eyesclosed_eeg.set  \n",
            "  inflating: train/derivatives/sub-081/eeg/sub-081_task-eyesclosed_eeg.set  \n",
            "  inflating: train/derivatives/sub-082/eeg/sub-082_task-eyesclosed_eeg.set  \n",
            "  inflating: train/derivatives/sub-083/eeg/sub-083_task-eyesclosed_eeg.set  \n",
            "  inflating: train/derivatives/sub-084/eeg/sub-084_task-eyesclosed_eeg.set  \n",
            "  inflating: train/derivatives/sub-085/eeg/sub-085_task-eyesclosed_eeg.set  \n",
            "  inflating: train/derivatives/sub-086/eeg/sub-086_task-eyesclosed_eeg.set  \n",
            "  inflating: train/derivatives/sub-087/eeg/sub-087_task-eyesclosed_eeg.set  \n",
            "  inflating: train/derivatives/sub-088/eeg/sub-088_task-eyesclosed_eeg.set  \n"
          ]
        }
      ]
    },
    {
      "cell_type": "code",
      "source": [
        "import os\n",
        "import mne\n",
        "import glob\n"
      ],
      "metadata": {
        "id": "-XkCEUC8aaOb"
      },
      "execution_count": 33,
      "outputs": []
    },
    {
      "cell_type": "code",
      "source": [
        "def get_set_files(root_dir):\n",
        "    pattern = os.path.join(root_dir, '**', '*.set')\n",
        "    set_files = glob.glob(pattern, recursive=True)\n",
        "    return set_files\n"
      ],
      "metadata": {
        "id": "qF4SLpNnwkbD"
      },
      "execution_count": 34,
      "outputs": []
    },
    {
      "cell_type": "code",
      "source": [
        "directory_path = '/content/train/derivatives'\n",
        "set_files = get_set_files(directory_path)\n",
        "# files_and_directories =  os.listdir(directory_path)\n",
        "# directories=[d for d in files_and_directories if os.path.isdir(os.path.join(directory_path, d)) and d.startswith('sub')]\n"
      ],
      "metadata": {
        "id": "qqNmazOzbGV1"
      },
      "execution_count": 36,
      "outputs": []
    },
    {
      "cell_type": "code",
      "source": [
        "set_files"
      ],
      "metadata": {
        "colab": {
          "base_uri": "https://localhost:8080/"
        },
        "id": "i4MB8HjGcgZ1",
        "outputId": "f960ef34-aedb-4363-8bf1-83339618576f"
      },
      "execution_count": 37,
      "outputs": [
        {
          "output_type": "execute_result",
          "data": {
            "text/plain": [
              "['/content/train/derivatives/sub-051/eeg/sub-051_task-eyesclosed_eeg.set',\n",
              " '/content/train/derivatives/sub-004/eeg/sub-004_task-eyesclosed_eeg.set',\n",
              " '/content/train/derivatives/sub-008/eeg/sub-008_task-eyesclosed_eeg.set',\n",
              " '/content/train/derivatives/sub-043/eeg/sub-043_task-eyesclosed_eeg.set',\n",
              " '/content/train/derivatives/sub-006/eeg/sub-006_task-eyesclosed_eeg.set',\n",
              " '/content/train/derivatives/sub-087/eeg/sub-087_task-eyesclosed_eeg.set',\n",
              " '/content/train/derivatives/sub-045/eeg/sub-045_task-eyesclosed_eeg.set',\n",
              " '/content/train/derivatives/sub-070/eeg/sub-070_task-eyesclosed_eeg.set',\n",
              " '/content/train/derivatives/sub-007/eeg/sub-007_task-eyesclosed_eeg.set',\n",
              " '/content/train/derivatives/sub-030/eeg/sub-030_task-eyesclosed_eeg.set',\n",
              " '/content/train/derivatives/sub-014/eeg/sub-014_task-eyesclosed_eeg.set',\n",
              " '/content/train/derivatives/sub-083/eeg/sub-083_task-eyesclosed_eeg.set',\n",
              " '/content/train/derivatives/sub-072/eeg/sub-072_task-eyesclosed_eeg.set',\n",
              " '/content/train/derivatives/sub-081/eeg/sub-081_task-eyesclosed_eeg.set',\n",
              " '/content/train/derivatives/sub-052/eeg/sub-052_task-eyesclosed_eeg.set',\n",
              " '/content/train/derivatives/sub-012/eeg/sub-012_task-eyesclosed_eeg.set',\n",
              " '/content/train/derivatives/sub-032/eeg/sub-032_task-eyesclosed_eeg.set',\n",
              " '/content/train/derivatives/sub-040/eeg/sub-040_task-eyesclosed_eeg.set',\n",
              " '/content/train/derivatives/sub-034/eeg/sub-034_task-eyesclosed_eeg.set',\n",
              " '/content/train/derivatives/sub-028/eeg/sub-028_task-eyesclosed_eeg.set',\n",
              " '/content/train/derivatives/sub-013/eeg/sub-013_task-eyesclosed_eeg.set',\n",
              " '/content/train/derivatives/sub-062/eeg/sub-062_task-eyesclosed_eeg.set',\n",
              " '/content/train/derivatives/sub-039/eeg/sub-039_task-eyesclosed_eeg.set',\n",
              " '/content/train/derivatives/sub-088/eeg/sub-088_task-eyesclosed_eeg.set',\n",
              " '/content/train/derivatives/sub-010/eeg/sub-010_task-eyesclosed_eeg.set',\n",
              " '/content/train/derivatives/sub-061/eeg/sub-061_task-eyesclosed_eeg.set',\n",
              " '/content/train/derivatives/sub-041/eeg/sub-041_task-eyesclosed_eeg.set',\n",
              " '/content/train/derivatives/sub-074/eeg/sub-074_task-eyesclosed_eeg.set',\n",
              " '/content/train/derivatives/sub-011/eeg/sub-011_task-eyesclosed_eeg.set',\n",
              " '/content/train/derivatives/sub-016/eeg/sub-016_task-eyesclosed_eeg.set',\n",
              " '/content/train/derivatives/sub-078/eeg/sub-078_task-eyesclosed_eeg.set',\n",
              " '/content/train/derivatives/sub-069/eeg/sub-069_task-eyesclosed_eeg.set',\n",
              " '/content/train/derivatives/sub-015/eeg/sub-015_task-eyesclosed_eeg.set',\n",
              " '/content/train/derivatives/sub-025/eeg/sub-025_task-eyesclosed_eeg.set',\n",
              " '/content/train/derivatives/sub-037/eeg/sub-037_task-eyesclosed_eeg.set',\n",
              " '/content/train/derivatives/sub-001/eeg/sub-001_task-eyesclosed_eeg.set',\n",
              " '/content/train/derivatives/sub-055/eeg/sub-055_task-eyesclosed_eeg.set',\n",
              " '/content/train/derivatives/sub-075/eeg/sub-075_task-eyesclosed_eeg.set',\n",
              " '/content/train/derivatives/sub-027/eeg/sub-027_task-eyesclosed_eeg.set',\n",
              " '/content/train/derivatives/sub-057/eeg/sub-057_task-eyesclosed_eeg.set',\n",
              " '/content/train/derivatives/sub-063/eeg/sub-063_task-eyesclosed_eeg.set',\n",
              " '/content/train/derivatives/sub-058/eeg/sub-058_task-eyesclosed_eeg.set',\n",
              " '/content/train/derivatives/sub-084/eeg/sub-084_task-eyesclosed_eeg.set',\n",
              " '/content/train/derivatives/sub-079/eeg/sub-079_task-eyesclosed_eeg.set',\n",
              " '/content/train/derivatives/sub-020/eeg/sub-020_task-eyesclosed_eeg.set',\n",
              " '/content/train/derivatives/sub-026/eeg/sub-026_task-eyesclosed_eeg.set',\n",
              " '/content/train/derivatives/sub-060/eeg/sub-060_task-eyesclosed_eeg.set',\n",
              " '/content/train/derivatives/sub-064/eeg/sub-064_task-eyesclosed_eeg.set',\n",
              " '/content/train/derivatives/sub-009/eeg/sub-009_task-eyesclosed_eeg.set',\n",
              " '/content/train/derivatives/sub-080/eeg/sub-080_task-eyesclosed_eeg.set',\n",
              " '/content/train/derivatives/sub-029/eeg/sub-029_task-eyesclosed_eeg.set',\n",
              " '/content/train/derivatives/sub-077/eeg/sub-077_task-eyesclosed_eeg.set',\n",
              " '/content/train/derivatives/sub-082/eeg/sub-082_task-eyesclosed_eeg.set',\n",
              " '/content/train/derivatives/sub-017/eeg/sub-017_task-eyesclosed_eeg.set',\n",
              " '/content/train/derivatives/sub-038/eeg/sub-038_task-eyesclosed_eeg.set',\n",
              " '/content/train/derivatives/sub-054/eeg/sub-054_task-eyesclosed_eeg.set',\n",
              " '/content/train/derivatives/sub-005/eeg/sub-005_task-eyesclosed_eeg.set',\n",
              " '/content/train/derivatives/sub-031/eeg/sub-031_task-eyesclosed_eeg.set',\n",
              " '/content/train/derivatives/sub-047/eeg/sub-047_task-eyesclosed_eeg.set',\n",
              " '/content/train/derivatives/sub-053/eeg/sub-053_task-eyesclosed_eeg.set',\n",
              " '/content/train/derivatives/sub-067/eeg/sub-067_task-eyesclosed_eeg.set',\n",
              " '/content/train/derivatives/sub-046/eeg/sub-046_task-eyesclosed_eeg.set',\n",
              " '/content/train/derivatives/sub-085/eeg/sub-085_task-eyesclosed_eeg.set',\n",
              " '/content/train/derivatives/sub-086/eeg/sub-086_task-eyesclosed_eeg.set',\n",
              " '/content/train/derivatives/sub-033/eeg/sub-033_task-eyesclosed_eeg.set',\n",
              " '/content/train/derivatives/sub-003/eeg/sub-003_task-eyesclosed_eeg.set',\n",
              " '/content/train/derivatives/sub-050/eeg/sub-050_task-eyesclosed_eeg.set',\n",
              " '/content/train/derivatives/sub-022/eeg/sub-022_task-eyesclosed_eeg.set',\n",
              " '/content/train/derivatives/sub-019/eeg/sub-019_task-eyesclosed_eeg.set',\n",
              " '/content/train/derivatives/sub-024/eeg/sub-024_task-eyesclosed_eeg.set',\n",
              " '/content/train/derivatives/sub-002/eeg/sub-002_task-eyesclosed_eeg.set',\n",
              " '/content/train/derivatives/sub-044/eeg/sub-044_task-eyesclosed_eeg.set',\n",
              " '/content/train/derivatives/sub-071/eeg/sub-071_task-eyesclosed_eeg.set',\n",
              " '/content/train/derivatives/sub-059/eeg/sub-059_task-eyesclosed_eeg.set',\n",
              " '/content/train/derivatives/sub-073/eeg/sub-073_task-eyesclosed_eeg.set',\n",
              " '/content/train/derivatives/sub-035/eeg/sub-035_task-eyesclosed_eeg.set',\n",
              " '/content/train/derivatives/sub-018/eeg/sub-018_task-eyesclosed_eeg.set',\n",
              " '/content/train/derivatives/sub-076/eeg/sub-076_task-eyesclosed_eeg.set',\n",
              " '/content/train/derivatives/sub-048/eeg/sub-048_task-eyesclosed_eeg.set',\n",
              " '/content/train/derivatives/sub-042/eeg/sub-042_task-eyesclosed_eeg.set',\n",
              " '/content/train/derivatives/sub-036/eeg/sub-036_task-eyesclosed_eeg.set',\n",
              " '/content/train/derivatives/sub-066/eeg/sub-066_task-eyesclosed_eeg.set',\n",
              " '/content/train/derivatives/sub-065/eeg/sub-065_task-eyesclosed_eeg.set',\n",
              " '/content/train/derivatives/sub-023/eeg/sub-023_task-eyesclosed_eeg.set',\n",
              " '/content/train/derivatives/sub-049/eeg/sub-049_task-eyesclosed_eeg.set',\n",
              " '/content/train/derivatives/sub-021/eeg/sub-021_task-eyesclosed_eeg.set',\n",
              " '/content/train/derivatives/sub-056/eeg/sub-056_task-eyesclosed_eeg.set',\n",
              " '/content/train/derivatives/sub-068/eeg/sub-068_task-eyesclosed_eeg.set']"
            ]
          },
          "metadata": {},
          "execution_count": 37
        }
      ]
    },
    {
      "cell_type": "code",
      "source": [
        "raw = mne.io.read_raw_eeglab('/content/train/derivatives/sub-002/eeg/sub-002_task-eyesclosed_eeg.set',preload=True)"
      ],
      "metadata": {
        "id": "Bmrsx9l6jhKa"
      },
      "execution_count": 26,
      "outputs": []
    },
    {
      "cell_type": "code",
      "source": [
        "events, event_id = mne.events_from_annotations(raw)\n"
      ],
      "metadata": {
        "id": "XxAk-1KEvRLY"
      },
      "execution_count": 29,
      "outputs": []
    },
    {
      "cell_type": "code",
      "source": [
        "event_id"
      ],
      "metadata": {
        "id": "p8nRJiH2vXqT",
        "outputId": "a80b0de4-48b8-4555-b0e3-738f8f4ffcad",
        "colab": {
          "base_uri": "https://localhost:8080/"
        }
      },
      "execution_count": 32,
      "outputs": [
        {
          "output_type": "execute_result",
          "data": {
            "text/plain": [
              "{}"
            ]
          },
          "metadata": {},
          "execution_count": 32
        }
      ]
    },
    {
      "cell_type": "code",
      "source": [
        "raw"
      ],
      "metadata": {
        "id": "b3hmSoxXQbtq",
        "outputId": "c021dddf-53b4-4dfc-d6f2-8483c6d68b04",
        "colab": {
          "base_uri": "https://localhost:8080/",
          "height": 353
        }
      },
      "execution_count": 28,
      "outputs": [
        {
          "output_type": "execute_result",
          "data": {
            "text/plain": [
              "<RawEEGLAB | sub-002_task-eyesclosed_eeg.set, 19 x 396550 (793.1 s), ~57.5 MB, data loaded>"
            ],
            "text/html": [
              "<details open>\n",
              "    <summary><strong>General</strong></summary>\n",
              "    <table class=\"table table-hover table-striped table-sm table-responsive small\">\n",
              "        <tr>\n",
              "            <th>Measurement date</th>\n",
              "            \n",
              "            <td>Unknown</td>\n",
              "            \n",
              "        </tr>\n",
              "        <tr>\n",
              "            <th>Experimenter</th>\n",
              "            \n",
              "            <td>Unknown</td>\n",
              "            \n",
              "        </tr>\n",
              "        <tr>\n",
              "            <th>Participant</th>\n",
              "            \n",
              "            <td>Unknown</td>\n",
              "            \n",
              "        </tr>\n",
              "    </table>\n",
              "    </details>\n",
              "    <details open>\n",
              "        <summary><strong>Channels</strong></summary>\n",
              "        <table class=\"table table-hover table-striped table-sm table-responsive small\">\n",
              "            <tr>\n",
              "                <th>Digitized points</th>\n",
              "                \n",
              "                <td>22 points</td>\n",
              "                \n",
              "            </tr>\n",
              "            <tr>\n",
              "                <th>Good channels</th>\n",
              "                <td>19 EEG</td>\n",
              "            </tr>\n",
              "            <tr>\n",
              "                <th>Bad channels</th>\n",
              "                <td>None</td>\n",
              "            </tr>\n",
              "            <tr>\n",
              "                <th>EOG channels</th>\n",
              "                <td>Not available</td>\n",
              "            </tr>\n",
              "            <tr>\n",
              "                <th>ECG channels</th>\n",
              "                <td>Not available</td>\n",
              "            </tr>\n",
              "        </table>\n",
              "        </details>\n",
              "        <details open>\n",
              "            <summary><strong>Data</strong></summary>\n",
              "            <table class=\"table table-hover table-striped table-sm table-responsive small\">\n",
              "                \n",
              "                <tr>\n",
              "                    <th>Sampling frequency</th>\n",
              "                    <td>500.00 Hz</td>\n",
              "                </tr>\n",
              "                \n",
              "                \n",
              "                <tr>\n",
              "                    <th>Highpass</th>\n",
              "                    <td>0.00 Hz</td>\n",
              "                </tr>\n",
              "                \n",
              "                \n",
              "                <tr>\n",
              "                    <th>Lowpass</th>\n",
              "                    <td>250.00 Hz</td>\n",
              "                </tr>\n",
              "                \n",
              "                \n",
              "                \n",
              "                <tr>\n",
              "                    <th>Filenames</th>\n",
              "                    <td>sub-002_task-eyesclosed_eeg.set</td>\n",
              "                </tr>\n",
              "                \n",
              "                \n",
              "                <tr>\n",
              "                    <th>Duration</th>\n",
              "                    <td>00:13:14 (HH:MM:SS)</td>\n",
              "                </tr>\n",
              "                \n",
              "            </table>\n",
              "            </details>"
            ]
          },
          "metadata": {},
          "execution_count": 28
        }
      ]
    },
    {
      "cell_type": "code",
      "source": [
        "all_epochs = []\n",
        "\n",
        "for (i,sfile) in enumerate( set_files):\n",
        "  raw = mne.io.read_raw_eeglab(sfile,preload=True)\n",
        "  raw.set_eeg_reference(ref_channels=[])\n",
        "\n"
      ],
      "metadata": {
        "id": "yA4T7CAecLVG",
        "outputId": "078e312d-63b4-4599-f5b8-b7499e666841",
        "colab": {
          "base_uri": "https://localhost:8080/"
        }
      },
      "execution_count": 47,
      "outputs": [
        {
          "output_type": "stream",
          "name": "stdout",
          "text": [
            "EEG channel type selected for re-referencing\n",
            "EEG data marked as already having the desired reference.\n"
          ]
        },
        {
          "output_type": "stream",
          "name": "stderr",
          "text": [
            "<ipython-input-47-b0a824995817>:4: RuntimeWarning: The data contains 'boundary' events, indicating data discontinuities. Be cautious of filtering and epoching around these events.\n",
            "  raw = mne.io.read_raw_eeglab(sfile,preload=True)\n"
          ]
        },
        {
          "output_type": "stream",
          "name": "stdout",
          "text": [
            "EEG channel type selected for re-referencing\n",
            "EEG data marked as already having the desired reference.\n"
          ]
        },
        {
          "output_type": "stream",
          "name": "stderr",
          "text": [
            "<ipython-input-47-b0a824995817>:4: RuntimeWarning: The data contains 'boundary' events, indicating data discontinuities. Be cautious of filtering and epoching around these events.\n",
            "  raw = mne.io.read_raw_eeglab(sfile,preload=True)\n"
          ]
        },
        {
          "output_type": "stream",
          "name": "stdout",
          "text": [
            "EEG channel type selected for re-referencing\n",
            "EEG data marked as already having the desired reference.\n",
            "EEG channel type selected for re-referencing\n",
            "EEG data marked as already having the desired reference.\n",
            "EEG channel type selected for re-referencing\n",
            "EEG data marked as already having the desired reference.\n",
            "EEG channel type selected for re-referencing\n"
          ]
        },
        {
          "output_type": "stream",
          "name": "stderr",
          "text": [
            "<ipython-input-47-b0a824995817>:4: RuntimeWarning: The data contains 'boundary' events, indicating data discontinuities. Be cautious of filtering and epoching around these events.\n",
            "  raw = mne.io.read_raw_eeglab(sfile,preload=True)\n",
            "<ipython-input-47-b0a824995817>:4: RuntimeWarning: The data contains 'boundary' events, indicating data discontinuities. Be cautious of filtering and epoching around these events.\n",
            "  raw = mne.io.read_raw_eeglab(sfile,preload=True)\n"
          ]
        },
        {
          "output_type": "stream",
          "name": "stdout",
          "text": [
            "EEG data marked as already having the desired reference.\n",
            "EEG channel type selected for re-referencing\n",
            "EEG data marked as already having the desired reference.\n",
            "EEG channel type selected for re-referencing\n"
          ]
        },
        {
          "output_type": "stream",
          "name": "stderr",
          "text": [
            "<ipython-input-47-b0a824995817>:4: RuntimeWarning: The data contains 'boundary' events, indicating data discontinuities. Be cautious of filtering and epoching around these events.\n",
            "  raw = mne.io.read_raw_eeglab(sfile,preload=True)\n"
          ]
        },
        {
          "output_type": "stream",
          "name": "stdout",
          "text": [
            "EEG data marked as already having the desired reference.\n",
            "EEG channel type selected for re-referencing\n",
            "EEG data marked as already having the desired reference.\n",
            "EEG channel type selected for re-referencing\n",
            "EEG data marked as already having the desired reference.\n"
          ]
        },
        {
          "output_type": "stream",
          "name": "stderr",
          "text": [
            "<ipython-input-47-b0a824995817>:4: RuntimeWarning: The data contains 'boundary' events, indicating data discontinuities. Be cautious of filtering and epoching around these events.\n",
            "  raw = mne.io.read_raw_eeglab(sfile,preload=True)\n",
            "<ipython-input-47-b0a824995817>:4: RuntimeWarning: The data contains 'boundary' events, indicating data discontinuities. Be cautious of filtering and epoching around these events.\n",
            "  raw = mne.io.read_raw_eeglab(sfile,preload=True)\n"
          ]
        },
        {
          "output_type": "stream",
          "name": "stdout",
          "text": [
            "EEG channel type selected for re-referencing\n",
            "EEG data marked as already having the desired reference.\n",
            "EEG channel type selected for re-referencing\n",
            "EEG data marked as already having the desired reference.\n"
          ]
        },
        {
          "output_type": "stream",
          "name": "stderr",
          "text": [
            "<ipython-input-47-b0a824995817>:4: RuntimeWarning: The data contains 'boundary' events, indicating data discontinuities. Be cautious of filtering and epoching around these events.\n",
            "  raw = mne.io.read_raw_eeglab(sfile,preload=True)\n"
          ]
        },
        {
          "output_type": "stream",
          "name": "stdout",
          "text": [
            "EEG channel type selected for re-referencing\n",
            "EEG data marked as already having the desired reference.\n",
            "EEG channel type selected for re-referencing\n",
            "EEG data marked as already having the desired reference.\n"
          ]
        },
        {
          "output_type": "stream",
          "name": "stderr",
          "text": [
            "<ipython-input-47-b0a824995817>:4: RuntimeWarning: The data contains 'boundary' events, indicating data discontinuities. Be cautious of filtering and epoching around these events.\n",
            "  raw = mne.io.read_raw_eeglab(sfile,preload=True)\n",
            "<ipython-input-47-b0a824995817>:4: RuntimeWarning: The data contains 'boundary' events, indicating data discontinuities. Be cautious of filtering and epoching around these events.\n",
            "  raw = mne.io.read_raw_eeglab(sfile,preload=True)\n"
          ]
        },
        {
          "output_type": "stream",
          "name": "stdout",
          "text": [
            "EEG channel type selected for re-referencing\n",
            "EEG data marked as already having the desired reference.\n",
            "EEG channel type selected for re-referencing\n",
            "EEG data marked as already having the desired reference.\n"
          ]
        },
        {
          "output_type": "stream",
          "name": "stderr",
          "text": [
            "<ipython-input-47-b0a824995817>:4: RuntimeWarning: The data contains 'boundary' events, indicating data discontinuities. Be cautious of filtering and epoching around these events.\n",
            "  raw = mne.io.read_raw_eeglab(sfile,preload=True)\n",
            "<ipython-input-47-b0a824995817>:4: RuntimeWarning: The data contains 'boundary' events, indicating data discontinuities. Be cautious of filtering and epoching around these events.\n",
            "  raw = mne.io.read_raw_eeglab(sfile,preload=True)\n"
          ]
        },
        {
          "output_type": "stream",
          "name": "stdout",
          "text": [
            "EEG channel type selected for re-referencing\n",
            "EEG data marked as already having the desired reference.\n"
          ]
        },
        {
          "output_type": "stream",
          "name": "stderr",
          "text": [
            "<ipython-input-47-b0a824995817>:4: RuntimeWarning: The data contains 'boundary' events, indicating data discontinuities. Be cautious of filtering and epoching around these events.\n",
            "  raw = mne.io.read_raw_eeglab(sfile,preload=True)\n"
          ]
        },
        {
          "output_type": "stream",
          "name": "stdout",
          "text": [
            "EEG channel type selected for re-referencing\n",
            "EEG data marked as already having the desired reference.\n",
            "EEG channel type selected for re-referencing\n",
            "EEG data marked as already having the desired reference.\n",
            "EEG channel type selected for re-referencing\n",
            "EEG data marked as already having the desired reference.\n"
          ]
        },
        {
          "output_type": "stream",
          "name": "stderr",
          "text": [
            "<ipython-input-47-b0a824995817>:4: RuntimeWarning: The data contains 'boundary' events, indicating data discontinuities. Be cautious of filtering and epoching around these events.\n",
            "  raw = mne.io.read_raw_eeglab(sfile,preload=True)\n",
            "<ipython-input-47-b0a824995817>:4: RuntimeWarning: The data contains 'boundary' events, indicating data discontinuities. Be cautious of filtering and epoching around these events.\n",
            "  raw = mne.io.read_raw_eeglab(sfile,preload=True)\n",
            "<ipython-input-47-b0a824995817>:4: RuntimeWarning: The data contains 'boundary' events, indicating data discontinuities. Be cautious of filtering and epoching around these events.\n",
            "  raw = mne.io.read_raw_eeglab(sfile,preload=True)\n"
          ]
        },
        {
          "output_type": "stream",
          "name": "stdout",
          "text": [
            "EEG channel type selected for re-referencing\n",
            "EEG data marked as already having the desired reference.\n"
          ]
        },
        {
          "output_type": "stream",
          "name": "stderr",
          "text": [
            "<ipython-input-47-b0a824995817>:4: RuntimeWarning: The data contains 'boundary' events, indicating data discontinuities. Be cautious of filtering and epoching around these events.\n",
            "  raw = mne.io.read_raw_eeglab(sfile,preload=True)\n"
          ]
        },
        {
          "output_type": "stream",
          "name": "stdout",
          "text": [
            "EEG channel type selected for re-referencing\n",
            "EEG data marked as already having the desired reference.\n",
            "EEG channel type selected for re-referencing\n",
            "EEG data marked as already having the desired reference.\n"
          ]
        },
        {
          "output_type": "stream",
          "name": "stderr",
          "text": [
            "<ipython-input-47-b0a824995817>:4: RuntimeWarning: The data contains 'boundary' events, indicating data discontinuities. Be cautious of filtering and epoching around these events.\n",
            "  raw = mne.io.read_raw_eeglab(sfile,preload=True)\n",
            "<ipython-input-47-b0a824995817>:4: RuntimeWarning: The data contains 'boundary' events, indicating data discontinuities. Be cautious of filtering and epoching around these events.\n",
            "  raw = mne.io.read_raw_eeglab(sfile,preload=True)\n"
          ]
        },
        {
          "output_type": "stream",
          "name": "stdout",
          "text": [
            "EEG channel type selected for re-referencing\n",
            "EEG data marked as already having the desired reference.\n",
            "EEG channel type selected for re-referencing\n",
            "EEG data marked as already having the desired reference.\n",
            "EEG channel type selected for re-referencing\n"
          ]
        },
        {
          "output_type": "stream",
          "name": "stderr",
          "text": [
            "<ipython-input-47-b0a824995817>:4: RuntimeWarning: The data contains 'boundary' events, indicating data discontinuities. Be cautious of filtering and epoching around these events.\n",
            "  raw = mne.io.read_raw_eeglab(sfile,preload=True)\n",
            "<ipython-input-47-b0a824995817>:4: RuntimeWarning: The data contains 'boundary' events, indicating data discontinuities. Be cautious of filtering and epoching around these events.\n",
            "  raw = mne.io.read_raw_eeglab(sfile,preload=True)\n",
            "<ipython-input-47-b0a824995817>:4: RuntimeWarning: The data contains 'boundary' events, indicating data discontinuities. Be cautious of filtering and epoching around these events.\n",
            "  raw = mne.io.read_raw_eeglab(sfile,preload=True)\n"
          ]
        },
        {
          "output_type": "stream",
          "name": "stdout",
          "text": [
            "EEG data marked as already having the desired reference.\n",
            "EEG channel type selected for re-referencing\n",
            "EEG data marked as already having the desired reference.\n",
            "EEG channel type selected for re-referencing\n",
            "EEG data marked as already having the desired reference.\n"
          ]
        },
        {
          "output_type": "stream",
          "name": "stderr",
          "text": [
            "<ipython-input-47-b0a824995817>:4: RuntimeWarning: The data contains 'boundary' events, indicating data discontinuities. Be cautious of filtering and epoching around these events.\n",
            "  raw = mne.io.read_raw_eeglab(sfile,preload=True)\n",
            "<ipython-input-47-b0a824995817>:4: RuntimeWarning: The data contains 'boundary' events, indicating data discontinuities. Be cautious of filtering and epoching around these events.\n",
            "  raw = mne.io.read_raw_eeglab(sfile,preload=True)\n"
          ]
        },
        {
          "output_type": "stream",
          "name": "stdout",
          "text": [
            "EEG channel type selected for re-referencing\n",
            "EEG data marked as already having the desired reference.\n"
          ]
        },
        {
          "output_type": "stream",
          "name": "stderr",
          "text": [
            "<ipython-input-47-b0a824995817>:4: RuntimeWarning: The data contains 'boundary' events, indicating data discontinuities. Be cautious of filtering and epoching around these events.\n",
            "  raw = mne.io.read_raw_eeglab(sfile,preload=True)\n",
            "<ipython-input-47-b0a824995817>:4: RuntimeWarning: The data contains 'boundary' events, indicating data discontinuities. Be cautious of filtering and epoching around these events.\n",
            "  raw = mne.io.read_raw_eeglab(sfile,preload=True)\n"
          ]
        },
        {
          "output_type": "stream",
          "name": "stdout",
          "text": [
            "EEG channel type selected for re-referencing\n",
            "EEG data marked as already having the desired reference.\n",
            "EEG channel type selected for re-referencing\n",
            "EEG data marked as already having the desired reference.\n",
            "EEG channel type selected for re-referencing\n"
          ]
        },
        {
          "output_type": "stream",
          "name": "stderr",
          "text": [
            "<ipython-input-47-b0a824995817>:4: RuntimeWarning: The data contains 'boundary' events, indicating data discontinuities. Be cautious of filtering and epoching around these events.\n",
            "  raw = mne.io.read_raw_eeglab(sfile,preload=True)\n",
            "<ipython-input-47-b0a824995817>:4: RuntimeWarning: The data contains 'boundary' events, indicating data discontinuities. Be cautious of filtering and epoching around these events.\n",
            "  raw = mne.io.read_raw_eeglab(sfile,preload=True)\n"
          ]
        },
        {
          "output_type": "stream",
          "name": "stdout",
          "text": [
            "EEG data marked as already having the desired reference.\n",
            "EEG channel type selected for re-referencing\n",
            "EEG data marked as already having the desired reference.\n",
            "EEG channel type selected for re-referencing\n"
          ]
        },
        {
          "output_type": "stream",
          "name": "stderr",
          "text": [
            "<ipython-input-47-b0a824995817>:4: RuntimeWarning: The data contains 'boundary' events, indicating data discontinuities. Be cautious of filtering and epoching around these events.\n",
            "  raw = mne.io.read_raw_eeglab(sfile,preload=True)\n",
            "<ipython-input-47-b0a824995817>:4: RuntimeWarning: The data contains 'boundary' events, indicating data discontinuities. Be cautious of filtering and epoching around these events.\n",
            "  raw = mne.io.read_raw_eeglab(sfile,preload=True)\n"
          ]
        },
        {
          "output_type": "stream",
          "name": "stdout",
          "text": [
            "EEG data marked as already having the desired reference.\n",
            "EEG channel type selected for re-referencing\n",
            "EEG data marked as already having the desired reference.\n",
            "EEG channel type selected for re-referencing\n",
            "EEG data marked as already having the desired reference.\n",
            "EEG channel type selected for re-referencing\n",
            "EEG data marked as already having the desired reference.\n",
            "EEG channel type selected for re-referencing\n",
            "EEG data marked as already having the desired reference.\n"
          ]
        },
        {
          "output_type": "stream",
          "name": "stderr",
          "text": [
            "<ipython-input-47-b0a824995817>:4: RuntimeWarning: The data contains 'boundary' events, indicating data discontinuities. Be cautious of filtering and epoching around these events.\n",
            "  raw = mne.io.read_raw_eeglab(sfile,preload=True)\n",
            "<ipython-input-47-b0a824995817>:4: RuntimeWarning: The data contains 'boundary' events, indicating data discontinuities. Be cautious of filtering and epoching around these events.\n",
            "  raw = mne.io.read_raw_eeglab(sfile,preload=True)\n"
          ]
        },
        {
          "output_type": "stream",
          "name": "stdout",
          "text": [
            "EEG channel type selected for re-referencing\n",
            "EEG data marked as already having the desired reference.\n",
            "EEG channel type selected for re-referencing\n",
            "EEG data marked as already having the desired reference.\n"
          ]
        },
        {
          "output_type": "stream",
          "name": "stderr",
          "text": [
            "<ipython-input-47-b0a824995817>:4: RuntimeWarning: The data contains 'boundary' events, indicating data discontinuities. Be cautious of filtering and epoching around these events.\n",
            "  raw = mne.io.read_raw_eeglab(sfile,preload=True)\n"
          ]
        },
        {
          "output_type": "stream",
          "name": "stdout",
          "text": [
            "EEG channel type selected for re-referencing\n",
            "EEG data marked as already having the desired reference.\n",
            "EEG channel type selected for re-referencing\n"
          ]
        },
        {
          "output_type": "stream",
          "name": "stderr",
          "text": [
            "<ipython-input-47-b0a824995817>:4: RuntimeWarning: The data contains 'boundary' events, indicating data discontinuities. Be cautious of filtering and epoching around these events.\n",
            "  raw = mne.io.read_raw_eeglab(sfile,preload=True)\n",
            "<ipython-input-47-b0a824995817>:4: RuntimeWarning: The data contains 'boundary' events, indicating data discontinuities. Be cautious of filtering and epoching around these events.\n",
            "  raw = mne.io.read_raw_eeglab(sfile,preload=True)\n"
          ]
        },
        {
          "output_type": "stream",
          "name": "stdout",
          "text": [
            "EEG data marked as already having the desired reference.\n",
            "EEG channel type selected for re-referencing\n",
            "EEG data marked as already having the desired reference.\n",
            "EEG channel type selected for re-referencing\n",
            "EEG data marked as already having the desired reference.\n",
            "EEG channel type selected for re-referencing\n",
            "EEG data marked as already having the desired reference.\n"
          ]
        },
        {
          "output_type": "stream",
          "name": "stderr",
          "text": [
            "<ipython-input-47-b0a824995817>:4: RuntimeWarning: The data contains 'boundary' events, indicating data discontinuities. Be cautious of filtering and epoching around these events.\n",
            "  raw = mne.io.read_raw_eeglab(sfile,preload=True)\n"
          ]
        },
        {
          "output_type": "stream",
          "name": "stdout",
          "text": [
            "EEG channel type selected for re-referencing\n",
            "EEG data marked as already having the desired reference.\n",
            "EEG channel type selected for re-referencing\n",
            "EEG data marked as already having the desired reference.\n"
          ]
        },
        {
          "output_type": "stream",
          "name": "stderr",
          "text": [
            "<ipython-input-47-b0a824995817>:4: RuntimeWarning: The data contains 'boundary' events, indicating data discontinuities. Be cautious of filtering and epoching around these events.\n",
            "  raw = mne.io.read_raw_eeglab(sfile,preload=True)\n",
            "<ipython-input-47-b0a824995817>:4: RuntimeWarning: The data contains 'boundary' events, indicating data discontinuities. Be cautious of filtering and epoching around these events.\n",
            "  raw = mne.io.read_raw_eeglab(sfile,preload=True)\n"
          ]
        },
        {
          "output_type": "stream",
          "name": "stdout",
          "text": [
            "EEG channel type selected for re-referencing\n",
            "EEG data marked as already having the desired reference.\n",
            "EEG channel type selected for re-referencing\n"
          ]
        },
        {
          "output_type": "stream",
          "name": "stderr",
          "text": [
            "<ipython-input-47-b0a824995817>:4: RuntimeWarning: The data contains 'boundary' events, indicating data discontinuities. Be cautious of filtering and epoching around these events.\n",
            "  raw = mne.io.read_raw_eeglab(sfile,preload=True)\n",
            "<ipython-input-47-b0a824995817>:4: RuntimeWarning: The data contains 'boundary' events, indicating data discontinuities. Be cautious of filtering and epoching around these events.\n",
            "  raw = mne.io.read_raw_eeglab(sfile,preload=True)\n"
          ]
        },
        {
          "output_type": "stream",
          "name": "stdout",
          "text": [
            "EEG data marked as already having the desired reference.\n",
            "EEG channel type selected for re-referencing\n",
            "EEG data marked as already having the desired reference.\n",
            "EEG channel type selected for re-referencing\n",
            "EEG data marked as already having the desired reference.\n"
          ]
        },
        {
          "output_type": "stream",
          "name": "stderr",
          "text": [
            "<ipython-input-47-b0a824995817>:4: RuntimeWarning: The data contains 'boundary' events, indicating data discontinuities. Be cautious of filtering and epoching around these events.\n",
            "  raw = mne.io.read_raw_eeglab(sfile,preload=True)\n",
            "<ipython-input-47-b0a824995817>:4: RuntimeWarning: The data contains 'boundary' events, indicating data discontinuities. Be cautious of filtering and epoching around these events.\n",
            "  raw = mne.io.read_raw_eeglab(sfile,preload=True)\n"
          ]
        },
        {
          "output_type": "stream",
          "name": "stdout",
          "text": [
            "EEG channel type selected for re-referencing\n",
            "EEG data marked as already having the desired reference.\n",
            "EEG channel type selected for re-referencing\n",
            "EEG data marked as already having the desired reference.\n"
          ]
        },
        {
          "output_type": "stream",
          "name": "stderr",
          "text": [
            "<ipython-input-47-b0a824995817>:4: RuntimeWarning: The data contains 'boundary' events, indicating data discontinuities. Be cautious of filtering and epoching around these events.\n",
            "  raw = mne.io.read_raw_eeglab(sfile,preload=True)\n"
          ]
        },
        {
          "output_type": "stream",
          "name": "stdout",
          "text": [
            "EEG channel type selected for re-referencing\n",
            "EEG data marked as already having the desired reference.\n",
            "EEG channel type selected for re-referencing\n",
            "EEG data marked as already having the desired reference.\n",
            "EEG channel type selected for re-referencing\n",
            "EEG data marked as already having the desired reference.\n"
          ]
        },
        {
          "output_type": "stream",
          "name": "stderr",
          "text": [
            "<ipython-input-47-b0a824995817>:4: RuntimeWarning: The data contains 'boundary' events, indicating data discontinuities. Be cautious of filtering and epoching around these events.\n",
            "  raw = mne.io.read_raw_eeglab(sfile,preload=True)\n",
            "<ipython-input-47-b0a824995817>:4: RuntimeWarning: The data contains 'boundary' events, indicating data discontinuities. Be cautious of filtering and epoching around these events.\n",
            "  raw = mne.io.read_raw_eeglab(sfile,preload=True)\n",
            "<ipython-input-47-b0a824995817>:4: RuntimeWarning: The data contains 'boundary' events, indicating data discontinuities. Be cautious of filtering and epoching around these events.\n",
            "  raw = mne.io.read_raw_eeglab(sfile,preload=True)\n"
          ]
        },
        {
          "output_type": "stream",
          "name": "stdout",
          "text": [
            "EEG channel type selected for re-referencing\n",
            "EEG data marked as already having the desired reference.\n",
            "EEG channel type selected for re-referencing\n",
            "EEG data marked as already having the desired reference.\n",
            "EEG channel type selected for re-referencing\n",
            "EEG data marked as already having the desired reference.\n"
          ]
        },
        {
          "output_type": "stream",
          "name": "stderr",
          "text": [
            "<ipython-input-47-b0a824995817>:4: RuntimeWarning: The data contains 'boundary' events, indicating data discontinuities. Be cautious of filtering and epoching around these events.\n",
            "  raw = mne.io.read_raw_eeglab(sfile,preload=True)\n",
            "<ipython-input-47-b0a824995817>:4: RuntimeWarning: The data contains 'boundary' events, indicating data discontinuities. Be cautious of filtering and epoching around these events.\n",
            "  raw = mne.io.read_raw_eeglab(sfile,preload=True)\n"
          ]
        },
        {
          "output_type": "stream",
          "name": "stdout",
          "text": [
            "EEG channel type selected for re-referencing\n",
            "EEG data marked as already having the desired reference.\n",
            "EEG channel type selected for re-referencing\n"
          ]
        },
        {
          "output_type": "stream",
          "name": "stderr",
          "text": [
            "<ipython-input-47-b0a824995817>:4: RuntimeWarning: The data contains 'boundary' events, indicating data discontinuities. Be cautious of filtering and epoching around these events.\n",
            "  raw = mne.io.read_raw_eeglab(sfile,preload=True)\n"
          ]
        },
        {
          "output_type": "stream",
          "name": "stdout",
          "text": [
            "EEG data marked as already having the desired reference.\n",
            "EEG channel type selected for re-referencing\n",
            "EEG data marked as already having the desired reference.\n",
            "EEG channel type selected for re-referencing\n",
            "EEG data marked as already having the desired reference.\n",
            "EEG channel type selected for re-referencing\n",
            "EEG data marked as already having the desired reference.\n"
          ]
        },
        {
          "output_type": "stream",
          "name": "stderr",
          "text": [
            "<ipython-input-47-b0a824995817>:4: RuntimeWarning: The data contains 'boundary' events, indicating data discontinuities. Be cautious of filtering and epoching around these events.\n",
            "  raw = mne.io.read_raw_eeglab(sfile,preload=True)\n",
            "<ipython-input-47-b0a824995817>:4: RuntimeWarning: The data contains 'boundary' events, indicating data discontinuities. Be cautious of filtering and epoching around these events.\n",
            "  raw = mne.io.read_raw_eeglab(sfile,preload=True)\n",
            "<ipython-input-47-b0a824995817>:4: RuntimeWarning: The data contains 'boundary' events, indicating data discontinuities. Be cautious of filtering and epoching around these events.\n",
            "  raw = mne.io.read_raw_eeglab(sfile,preload=True)\n"
          ]
        },
        {
          "output_type": "stream",
          "name": "stdout",
          "text": [
            "EEG channel type selected for re-referencing\n",
            "EEG data marked as already having the desired reference.\n",
            "EEG channel type selected for re-referencing\n",
            "EEG data marked as already having the desired reference.\n",
            "EEG channel type selected for re-referencing\n"
          ]
        },
        {
          "output_type": "stream",
          "name": "stderr",
          "text": [
            "<ipython-input-47-b0a824995817>:4: RuntimeWarning: The data contains 'boundary' events, indicating data discontinuities. Be cautious of filtering and epoching around these events.\n",
            "  raw = mne.io.read_raw_eeglab(sfile,preload=True)\n",
            "<ipython-input-47-b0a824995817>:4: RuntimeWarning: The data contains 'boundary' events, indicating data discontinuities. Be cautious of filtering and epoching around these events.\n",
            "  raw = mne.io.read_raw_eeglab(sfile,preload=True)\n",
            "<ipython-input-47-b0a824995817>:4: RuntimeWarning: The data contains 'boundary' events, indicating data discontinuities. Be cautious of filtering and epoching around these events.\n",
            "  raw = mne.io.read_raw_eeglab(sfile,preload=True)\n"
          ]
        },
        {
          "output_type": "stream",
          "name": "stdout",
          "text": [
            "EEG data marked as already having the desired reference.\n",
            "EEG channel type selected for re-referencing\n",
            "EEG data marked as already having the desired reference.\n"
          ]
        },
        {
          "output_type": "stream",
          "name": "stderr",
          "text": [
            "<ipython-input-47-b0a824995817>:4: RuntimeWarning: The data contains 'boundary' events, indicating data discontinuities. Be cautious of filtering and epoching around these events.\n",
            "  raw = mne.io.read_raw_eeglab(sfile,preload=True)\n"
          ]
        },
        {
          "output_type": "stream",
          "name": "stdout",
          "text": [
            "EEG channel type selected for re-referencing\n",
            "EEG data marked as already having the desired reference.\n",
            "EEG channel type selected for re-referencing\n",
            "EEG data marked as already having the desired reference.\n",
            "EEG channel type selected for re-referencing\n"
          ]
        },
        {
          "output_type": "stream",
          "name": "stderr",
          "text": [
            "<ipython-input-47-b0a824995817>:4: RuntimeWarning: The data contains 'boundary' events, indicating data discontinuities. Be cautious of filtering and epoching around these events.\n",
            "  raw = mne.io.read_raw_eeglab(sfile,preload=True)\n",
            "<ipython-input-47-b0a824995817>:4: RuntimeWarning: The data contains 'boundary' events, indicating data discontinuities. Be cautious of filtering and epoching around these events.\n",
            "  raw = mne.io.read_raw_eeglab(sfile,preload=True)\n"
          ]
        },
        {
          "output_type": "stream",
          "name": "stdout",
          "text": [
            "EEG data marked as already having the desired reference.\n",
            "EEG channel type selected for re-referencing\n",
            "EEG data marked as already having the desired reference.\n",
            "EEG channel type selected for re-referencing\n",
            "EEG data marked as already having the desired reference.\n",
            "EEG channel type selected for re-referencing\n",
            "EEG data marked as already having the desired reference.\n"
          ]
        },
        {
          "output_type": "stream",
          "name": "stderr",
          "text": [
            "<ipython-input-47-b0a824995817>:4: RuntimeWarning: The data contains 'boundary' events, indicating data discontinuities. Be cautious of filtering and epoching around these events.\n",
            "  raw = mne.io.read_raw_eeglab(sfile,preload=True)\n",
            "<ipython-input-47-b0a824995817>:4: RuntimeWarning: The data contains 'boundary' events, indicating data discontinuities. Be cautious of filtering and epoching around these events.\n",
            "  raw = mne.io.read_raw_eeglab(sfile,preload=True)\n"
          ]
        },
        {
          "output_type": "stream",
          "name": "stdout",
          "text": [
            "EEG channel type selected for re-referencing\n",
            "EEG data marked as already having the desired reference.\n",
            "EEG channel type selected for re-referencing\n",
            "EEG data marked as already having the desired reference.\n"
          ]
        },
        {
          "output_type": "stream",
          "name": "stderr",
          "text": [
            "<ipython-input-47-b0a824995817>:4: RuntimeWarning: The data contains 'boundary' events, indicating data discontinuities. Be cautious of filtering and epoching around these events.\n",
            "  raw = mne.io.read_raw_eeglab(sfile,preload=True)\n",
            "<ipython-input-47-b0a824995817>:4: RuntimeWarning: The data contains 'boundary' events, indicating data discontinuities. Be cautious of filtering and epoching around these events.\n",
            "  raw = mne.io.read_raw_eeglab(sfile,preload=True)\n"
          ]
        },
        {
          "output_type": "stream",
          "name": "stdout",
          "text": [
            "EEG channel type selected for re-referencing\n",
            "EEG data marked as already having the desired reference.\n",
            "EEG channel type selected for re-referencing\n",
            "EEG data marked as already having the desired reference.\n"
          ]
        },
        {
          "output_type": "stream",
          "name": "stderr",
          "text": [
            "<ipython-input-47-b0a824995817>:4: RuntimeWarning: The data contains 'boundary' events, indicating data discontinuities. Be cautious of filtering and epoching around these events.\n",
            "  raw = mne.io.read_raw_eeglab(sfile,preload=True)\n"
          ]
        },
        {
          "output_type": "stream",
          "name": "stdout",
          "text": [
            "EEG channel type selected for re-referencing\n",
            "EEG data marked as already having the desired reference.\n",
            "EEG channel type selected for re-referencing\n"
          ]
        },
        {
          "output_type": "stream",
          "name": "stderr",
          "text": [
            "<ipython-input-47-b0a824995817>:4: RuntimeWarning: The data contains 'boundary' events, indicating data discontinuities. Be cautious of filtering and epoching around these events.\n",
            "  raw = mne.io.read_raw_eeglab(sfile,preload=True)\n",
            "<ipython-input-47-b0a824995817>:4: RuntimeWarning: The data contains 'boundary' events, indicating data discontinuities. Be cautious of filtering and epoching around these events.\n",
            "  raw = mne.io.read_raw_eeglab(sfile,preload=True)\n"
          ]
        },
        {
          "output_type": "stream",
          "name": "stdout",
          "text": [
            "EEG data marked as already having the desired reference.\n",
            "EEG channel type selected for re-referencing\n",
            "EEG data marked as already having the desired reference.\n",
            "EEG channel type selected for re-referencing\n"
          ]
        },
        {
          "output_type": "stream",
          "name": "stderr",
          "text": [
            "<ipython-input-47-b0a824995817>:4: RuntimeWarning: The data contains 'boundary' events, indicating data discontinuities. Be cautious of filtering and epoching around these events.\n",
            "  raw = mne.io.read_raw_eeglab(sfile,preload=True)\n",
            "<ipython-input-47-b0a824995817>:4: RuntimeWarning: The data contains 'boundary' events, indicating data discontinuities. Be cautious of filtering and epoching around these events.\n",
            "  raw = mne.io.read_raw_eeglab(sfile,preload=True)\n"
          ]
        },
        {
          "output_type": "stream",
          "name": "stdout",
          "text": [
            "EEG data marked as already having the desired reference.\n",
            "EEG channel type selected for re-referencing\n",
            "EEG data marked as already having the desired reference.\n",
            "EEG channel type selected for re-referencing\n",
            "EEG data marked as already having the desired reference.\n",
            "EEG channel type selected for re-referencing\n",
            "EEG data marked as already having the desired reference.\n"
          ]
        },
        {
          "output_type": "stream",
          "name": "stderr",
          "text": [
            "<ipython-input-47-b0a824995817>:4: RuntimeWarning: The data contains 'boundary' events, indicating data discontinuities. Be cautious of filtering and epoching around these events.\n",
            "  raw = mne.io.read_raw_eeglab(sfile,preload=True)\n",
            "<ipython-input-47-b0a824995817>:4: RuntimeWarning: The data contains 'boundary' events, indicating data discontinuities. Be cautious of filtering and epoching around these events.\n",
            "  raw = mne.io.read_raw_eeglab(sfile,preload=True)\n"
          ]
        },
        {
          "output_type": "stream",
          "name": "stdout",
          "text": [
            "EEG channel type selected for re-referencing\n",
            "EEG data marked as already having the desired reference.\n",
            "EEG channel type selected for re-referencing\n"
          ]
        },
        {
          "output_type": "stream",
          "name": "stderr",
          "text": [
            "<ipython-input-47-b0a824995817>:4: RuntimeWarning: The data contains 'boundary' events, indicating data discontinuities. Be cautious of filtering and epoching around these events.\n",
            "  raw = mne.io.read_raw_eeglab(sfile,preload=True)\n",
            "<ipython-input-47-b0a824995817>:4: RuntimeWarning: The data contains 'boundary' events, indicating data discontinuities. Be cautious of filtering and epoching around these events.\n",
            "  raw = mne.io.read_raw_eeglab(sfile,preload=True)\n"
          ]
        },
        {
          "output_type": "stream",
          "name": "stdout",
          "text": [
            "EEG data marked as already having the desired reference.\n",
            "EEG channel type selected for re-referencing\n",
            "EEG data marked as already having the desired reference.\n"
          ]
        },
        {
          "output_type": "stream",
          "name": "stderr",
          "text": [
            "<ipython-input-47-b0a824995817>:4: RuntimeWarning: The data contains 'boundary' events, indicating data discontinuities. Be cautious of filtering and epoching around these events.\n",
            "  raw = mne.io.read_raw_eeglab(sfile,preload=True)\n"
          ]
        }
      ]
    }
  ]
}