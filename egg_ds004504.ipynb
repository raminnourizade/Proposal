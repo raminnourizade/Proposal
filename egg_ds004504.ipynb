{
  "nbformat": 4,
  "nbformat_minor": 0,
  "metadata": {
    "colab": {
      "provenance": [],
      "authorship_tag": "ABX9TyPwLEnIjC2MAdeqRsBcCxcH",
      "include_colab_link": true
    },
    "kernelspec": {
      "name": "python3",
      "display_name": "Python 3"
    },
    "language_info": {
      "name": "python"
    }
  },
  "cells": [
    {
      "cell_type": "markdown",
      "metadata": {
        "id": "view-in-github",
        "colab_type": "text"
      },
      "source": [
        "<a href=\"https://colab.research.google.com/github/raminnourizade/Proposal/blob/main/egg_ds004504.ipynb\" target=\"_parent\"><img src=\"https://colab.research.google.com/assets/colab-badge.svg\" alt=\"Open In Colab\"/></a>"
      ]
    },
    {
      "cell_type": "code",
      "execution_count": 35,
      "metadata": {
        "colab": {
          "base_uri": "https://localhost:8080/"
        },
        "id": "KvbHMZppaN4V",
        "outputId": "188302b0-ba31-4507-ee66-77ed4ecaa7d5"
      },
      "outputs": [
        {
          "output_type": "stream",
          "name": "stdout",
          "text": [
            "Requirement already satisfied: mne in /usr/local/lib/python3.10/dist-packages (1.6.1)\n",
            "Requirement already satisfied: numpy>=1.21.2 in /usr/local/lib/python3.10/dist-packages (from mne) (1.25.2)\n",
            "Requirement already satisfied: scipy>=1.7.1 in /usr/local/lib/python3.10/dist-packages (from mne) (1.11.4)\n",
            "Requirement already satisfied: matplotlib>=3.5.0 in /usr/local/lib/python3.10/dist-packages (from mne) (3.7.1)\n",
            "Requirement already satisfied: tqdm in /usr/local/lib/python3.10/dist-packages (from mne) (4.66.2)\n",
            "Requirement already satisfied: pooch>=1.5 in /usr/local/lib/python3.10/dist-packages (from mne) (1.8.1)\n",
            "Requirement already satisfied: decorator in /usr/local/lib/python3.10/dist-packages (from mne) (4.4.2)\n",
            "Requirement already satisfied: packaging in /usr/local/lib/python3.10/dist-packages (from mne) (23.2)\n",
            "Requirement already satisfied: jinja2 in /usr/local/lib/python3.10/dist-packages (from mne) (3.1.3)\n",
            "Requirement already satisfied: lazy-loader>=0.3 in /usr/local/lib/python3.10/dist-packages (from mne) (0.3)\n",
            "Requirement already satisfied: contourpy>=1.0.1 in /usr/local/lib/python3.10/dist-packages (from matplotlib>=3.5.0->mne) (1.2.0)\n",
            "Requirement already satisfied: cycler>=0.10 in /usr/local/lib/python3.10/dist-packages (from matplotlib>=3.5.0->mne) (0.12.1)\n",
            "Requirement already satisfied: fonttools>=4.22.0 in /usr/local/lib/python3.10/dist-packages (from matplotlib>=3.5.0->mne) (4.49.0)\n",
            "Requirement already satisfied: kiwisolver>=1.0.1 in /usr/local/lib/python3.10/dist-packages (from matplotlib>=3.5.0->mne) (1.4.5)\n",
            "Requirement already satisfied: pillow>=6.2.0 in /usr/local/lib/python3.10/dist-packages (from matplotlib>=3.5.0->mne) (9.4.0)\n",
            "Requirement already satisfied: pyparsing>=2.3.1 in /usr/local/lib/python3.10/dist-packages (from matplotlib>=3.5.0->mne) (3.1.2)\n",
            "Requirement already satisfied: python-dateutil>=2.7 in /usr/local/lib/python3.10/dist-packages (from matplotlib>=3.5.0->mne) (2.8.2)\n",
            "Requirement already satisfied: platformdirs>=2.5.0 in /usr/local/lib/python3.10/dist-packages (from pooch>=1.5->mne) (4.2.0)\n",
            "Requirement already satisfied: requests>=2.19.0 in /usr/local/lib/python3.10/dist-packages (from pooch>=1.5->mne) (2.31.0)\n",
            "Requirement already satisfied: MarkupSafe>=2.0 in /usr/local/lib/python3.10/dist-packages (from jinja2->mne) (2.1.5)\n",
            "Requirement already satisfied: six>=1.5 in /usr/local/lib/python3.10/dist-packages (from python-dateutil>=2.7->matplotlib>=3.5.0->mne) (1.16.0)\n",
            "Requirement already satisfied: charset-normalizer<4,>=2 in /usr/local/lib/python3.10/dist-packages (from requests>=2.19.0->pooch>=1.5->mne) (3.3.2)\n",
            "Requirement already satisfied: idna<4,>=2.5 in /usr/local/lib/python3.10/dist-packages (from requests>=2.19.0->pooch>=1.5->mne) (3.6)\n",
            "Requirement already satisfied: urllib3<3,>=1.21.1 in /usr/local/lib/python3.10/dist-packages (from requests>=2.19.0->pooch>=1.5->mne) (2.0.7)\n",
            "Requirement already satisfied: certifi>=2017.4.17 in /usr/local/lib/python3.10/dist-packages (from requests>=2.19.0->pooch>=1.5->mne) (2024.2.2)\n"
          ]
        }
      ],
      "source": [
        "!pip install mne"
      ]
    },
    {
      "cell_type": "code",
      "source": [
        "import os\n",
        "import mne"
      ],
      "metadata": {
        "id": "-XkCEUC8aaOb"
      },
      "execution_count": 36,
      "outputs": []
    },
    {
      "cell_type": "code",
      "source": [
        "!unzip 'ds004504.zip' -d 'dataset'"
      ],
      "metadata": {
        "colab": {
          "base_uri": "https://localhost:8080/"
        },
        "id": "5OSOxOgFbJGp",
        "outputId": "06a16c90-4e07-4e44-bc5a-db153646d47a"
      },
      "execution_count": 37,
      "outputs": [
        {
          "output_type": "stream",
          "name": "stdout",
          "text": [
            "Archive:  ds004504.zip\n",
            "replace dataset/ds004504/.datalad/config? [y]es, [n]o, [A]ll, [N]one, [r]ename: "
          ]
        }
      ]
    },
    {
      "cell_type": "code",
      "source": [
        "directory_path = '/content/dataset/ds004504'\n",
        "files_and_directories =  os.listdir(directory_path)\n",
        "directories=[d for d in files_and_directories if os.path.isdir(os.path.join(directory_path, d)) and d.startswith('sub')]\n"
      ],
      "metadata": {
        "id": "qqNmazOzbGV1"
      },
      "execution_count": 38,
      "outputs": []
    },
    {
      "cell_type": "code",
      "source": [
        "directories"
      ],
      "metadata": {
        "colab": {
          "base_uri": "https://localhost:8080/"
        },
        "id": "i4MB8HjGcgZ1",
        "outputId": "e1e42b2e-35f9-475a-d7c8-d847a2154751"
      },
      "execution_count": 39,
      "outputs": [
        {
          "output_type": "execute_result",
          "data": {
            "text/plain": [
              "['sub-026',\n",
              " 'sub-022',\n",
              " 'sub-044',\n",
              " 'sub-051',\n",
              " 'sub-047',\n",
              " 'sub-085',\n",
              " 'sub-069',\n",
              " 'sub-038',\n",
              " 'sub-071',\n",
              " 'sub-010',\n",
              " 'sub-036',\n",
              " 'sub-064',\n",
              " 'sub-088',\n",
              " 'sub-070',\n",
              " 'sub-029',\n",
              " 'sub-053',\n",
              " 'sub-019',\n",
              " 'sub-057',\n",
              " 'sub-082',\n",
              " 'sub-005',\n",
              " 'sub-062',\n",
              " 'sub-011',\n",
              " 'sub-075',\n",
              " 'sub-078',\n",
              " 'sub-023',\n",
              " 'sub-060',\n",
              " 'sub-031',\n",
              " 'sub-076',\n",
              " 'sub-050',\n",
              " 'sub-054',\n",
              " 'sub-040',\n",
              " 'sub-039',\n",
              " 'sub-024',\n",
              " 'sub-055',\n",
              " 'sub-025',\n",
              " 'sub-037',\n",
              " 'sub-001',\n",
              " 'sub-002',\n",
              " 'sub-052',\n",
              " 'sub-086',\n",
              " 'sub-080',\n",
              " 'sub-079',\n",
              " 'sub-035',\n",
              " 'sub-033',\n",
              " 'sub-012',\n",
              " 'sub-018',\n",
              " 'sub-045',\n",
              " 'sub-083',\n",
              " 'sub-027',\n",
              " 'sub-007',\n",
              " 'sub-004',\n",
              " 'sub-061',\n",
              " 'sub-068',\n",
              " 'sub-028',\n",
              " 'sub-034',\n",
              " 'sub-017',\n",
              " 'sub-059',\n",
              " 'sub-030',\n",
              " 'sub-084',\n",
              " 'sub-074',\n",
              " 'sub-063',\n",
              " 'sub-021',\n",
              " 'sub-016',\n",
              " 'sub-042',\n",
              " 'sub-003',\n",
              " 'sub-041',\n",
              " 'sub-056',\n",
              " 'sub-072',\n",
              " 'sub-014',\n",
              " 'sub-066',\n",
              " 'sub-073',\n",
              " 'sub-008',\n",
              " 'sub-087',\n",
              " 'sub-081',\n",
              " 'sub-009',\n",
              " 'sub-043',\n",
              " 'sub-065',\n",
              " 'sub-046',\n",
              " 'sub-058',\n",
              " 'sub-067',\n",
              " 'sub-077',\n",
              " 'sub-015',\n",
              " 'sub-049',\n",
              " 'sub-032',\n",
              " 'sub-048',\n",
              " 'sub-006',\n",
              " 'sub-013',\n",
              " 'sub-020']"
            ]
          },
          "metadata": {},
          "execution_count": 39
        }
      ]
    },
    {
      "cell_type": "code",
      "source": [
        "pip install pymatreader\n"
      ],
      "metadata": {
        "colab": {
          "base_uri": "https://localhost:8080/"
        },
        "id": "4zm9alRWkAC9",
        "outputId": "ce6f2b26-1842-42e6-bb38-143108faa713"
      },
      "execution_count": 41,
      "outputs": [
        {
          "output_type": "stream",
          "name": "stdout",
          "text": [
            "Collecting pymatreader\n",
            "  Downloading pymatreader-0.0.32-py3-none-any.whl (9.0 kB)\n",
            "Requirement already satisfied: h5py in /usr/local/lib/python3.10/dist-packages (from pymatreader) (3.9.0)\n",
            "Requirement already satisfied: scipy!=1.7.0 in /usr/local/lib/python3.10/dist-packages (from pymatreader) (1.11.4)\n",
            "Requirement already satisfied: numpy in /usr/local/lib/python3.10/dist-packages (from pymatreader) (1.25.2)\n",
            "Collecting xmltodict (from pymatreader)\n",
            "  Downloading xmltodict-0.13.0-py2.py3-none-any.whl (10.0 kB)\n",
            "Installing collected packages: xmltodict, pymatreader\n",
            "Successfully installed pymatreader-0.0.32 xmltodict-0.13.0\n"
          ]
        }
      ]
    },
    {
      "cell_type": "code",
      "source": [
        "EEG = mne.io.read_raw_eeglab('/content/dataset/ds004504/sub-026/eeg/sub-026_task-eyesclosed_eeg.set')\n"
      ],
      "metadata": {
        "id": "Bmrsx9l6jhKa"
      },
      "execution_count": null,
      "outputs": []
    },
    {
      "cell_type": "code",
      "source": [
        "for i in range(len(directories)):\n",
        "    setfilepath = directory_path + '/' + directories[i]+'/eeg/'\n",
        "    print(setfilepath)\n",
        "    EEG = mne.io.read_raw_eeglab(setfilepath)\n",
        "    EEG.set_eeg_reference(ref_channels=None)\n",
        "    EEG.save(os.path.join(setpath5, setname))\n",
        "    print(f\"Processed {setname} and saved to {setpath5}\")\n"
      ],
      "metadata": {
        "id": "yA4T7CAecLVG"
      },
      "execution_count": null,
      "outputs": []
    }
  ]
}