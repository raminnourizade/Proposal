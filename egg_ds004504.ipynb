{
  "nbformat": 4,
  "nbformat_minor": 0,
  "metadata": {
    "colab": {
      "provenance": [],
      "authorship_tag": "ABX9TyN2biy+T8AK1ye9m8roAV0r",
      "include_colab_link": true
    },
    "kernelspec": {
      "name": "python3",
      "display_name": "Python 3"
    },
    "language_info": {
      "name": "python"
    }
  },
  "cells": [
    {
      "cell_type": "markdown",
      "metadata": {
        "id": "view-in-github",
        "colab_type": "text"
      },
      "source": [
        "<a href=\"https://colab.research.google.com/github/raminnourizade/Proposal/blob/main/egg_ds004504.ipynb\" target=\"_parent\"><img src=\"https://colab.research.google.com/assets/colab-badge.svg\" alt=\"Open In Colab\"/></a>"
      ]
    },
    {
      "cell_type": "code",
      "execution_count": 1,
      "metadata": {
        "colab": {
          "base_uri": "https://localhost:8080/"
        },
        "id": "KvbHMZppaN4V",
        "outputId": "267ba42a-d7b9-40ea-a305-11cfa58ed03e"
      },
      "outputs": [
        {
          "output_type": "stream",
          "name": "stdout",
          "text": [
            "Collecting mne\n",
            "  Downloading mne-1.6.1-py3-none-any.whl (8.3 MB)\n",
            "\u001b[2K     \u001b[90m━━━━━━━━━━━━━━━━━━━━━━━━━━━━━━━━━━━━━━━━\u001b[0m \u001b[32m8.3/8.3 MB\u001b[0m \u001b[31m44.9 MB/s\u001b[0m eta \u001b[36m0:00:00\u001b[0m\n",
            "\u001b[?25hRequirement already satisfied: numpy>=1.21.2 in /usr/local/lib/python3.10/dist-packages (from mne) (1.25.2)\n",
            "Requirement already satisfied: scipy>=1.7.1 in /usr/local/lib/python3.10/dist-packages (from mne) (1.11.4)\n",
            "Requirement already satisfied: matplotlib>=3.5.0 in /usr/local/lib/python3.10/dist-packages (from mne) (3.7.1)\n",
            "Requirement already satisfied: tqdm in /usr/local/lib/python3.10/dist-packages (from mne) (4.66.2)\n",
            "Requirement already satisfied: pooch>=1.5 in /usr/local/lib/python3.10/dist-packages (from mne) (1.8.1)\n",
            "Requirement already satisfied: decorator in /usr/local/lib/python3.10/dist-packages (from mne) (4.4.2)\n",
            "Requirement already satisfied: packaging in /usr/local/lib/python3.10/dist-packages (from mne) (23.2)\n",
            "Requirement already satisfied: jinja2 in /usr/local/lib/python3.10/dist-packages (from mne) (3.1.3)\n",
            "Requirement already satisfied: lazy-loader>=0.3 in /usr/local/lib/python3.10/dist-packages (from mne) (0.3)\n",
            "Requirement already satisfied: contourpy>=1.0.1 in /usr/local/lib/python3.10/dist-packages (from matplotlib>=3.5.0->mne) (1.2.0)\n",
            "Requirement already satisfied: cycler>=0.10 in /usr/local/lib/python3.10/dist-packages (from matplotlib>=3.5.0->mne) (0.12.1)\n",
            "Requirement already satisfied: fonttools>=4.22.0 in /usr/local/lib/python3.10/dist-packages (from matplotlib>=3.5.0->mne) (4.49.0)\n",
            "Requirement already satisfied: kiwisolver>=1.0.1 in /usr/local/lib/python3.10/dist-packages (from matplotlib>=3.5.0->mne) (1.4.5)\n",
            "Requirement already satisfied: pillow>=6.2.0 in /usr/local/lib/python3.10/dist-packages (from matplotlib>=3.5.0->mne) (9.4.0)\n",
            "Requirement already satisfied: pyparsing>=2.3.1 in /usr/local/lib/python3.10/dist-packages (from matplotlib>=3.5.0->mne) (3.1.2)\n",
            "Requirement already satisfied: python-dateutil>=2.7 in /usr/local/lib/python3.10/dist-packages (from matplotlib>=3.5.0->mne) (2.8.2)\n",
            "Requirement already satisfied: platformdirs>=2.5.0 in /usr/local/lib/python3.10/dist-packages (from pooch>=1.5->mne) (4.2.0)\n",
            "Requirement already satisfied: requests>=2.19.0 in /usr/local/lib/python3.10/dist-packages (from pooch>=1.5->mne) (2.31.0)\n",
            "Requirement already satisfied: MarkupSafe>=2.0 in /usr/local/lib/python3.10/dist-packages (from jinja2->mne) (2.1.5)\n",
            "Requirement already satisfied: six>=1.5 in /usr/local/lib/python3.10/dist-packages (from python-dateutil>=2.7->matplotlib>=3.5.0->mne) (1.16.0)\n",
            "Requirement already satisfied: charset-normalizer<4,>=2 in /usr/local/lib/python3.10/dist-packages (from requests>=2.19.0->pooch>=1.5->mne) (3.3.2)\n",
            "Requirement already satisfied: idna<4,>=2.5 in /usr/local/lib/python3.10/dist-packages (from requests>=2.19.0->pooch>=1.5->mne) (3.6)\n",
            "Requirement already satisfied: urllib3<3,>=1.21.1 in /usr/local/lib/python3.10/dist-packages (from requests>=2.19.0->pooch>=1.5->mne) (2.0.7)\n",
            "Requirement already satisfied: certifi>=2017.4.17 in /usr/local/lib/python3.10/dist-packages (from requests>=2.19.0->pooch>=1.5->mne) (2024.2.2)\n",
            "Installing collected packages: mne\n",
            "Successfully installed mne-1.6.1\n"
          ]
        }
      ],
      "source": [
        "!pip install mne"
      ]
    },
    {
      "cell_type": "code",
      "source": [
        " pip install -q kaggle"
      ],
      "metadata": {
        "id": "DvY4h9DYOLYv"
      },
      "execution_count": 2,
      "outputs": []
    },
    {
      "cell_type": "code",
      "source": [
        "from google.colab import files\n",
        "files.upload()"
      ],
      "metadata": {
        "id": "Fjg0yfGCOQf8",
        "outputId": "0666b901-9331-4b13-bb45-0adfaed6fbd4",
        "colab": {
          "base_uri": "https://localhost:8080/",
          "height": 90
        }
      },
      "execution_count": 3,
      "outputs": [
        {
          "output_type": "display_data",
          "data": {
            "text/plain": [
              "<IPython.core.display.HTML object>"
            ],
            "text/html": [
              "\n",
              "     <input type=\"file\" id=\"files-4ea59884-c070-4e9f-b0f5-eb3437ec7c94\" name=\"files[]\" multiple disabled\n",
              "        style=\"border:none\" />\n",
              "     <output id=\"result-4ea59884-c070-4e9f-b0f5-eb3437ec7c94\">\n",
              "      Upload widget is only available when the cell has been executed in the\n",
              "      current browser session. Please rerun this cell to enable.\n",
              "      </output>\n",
              "      <script>// Copyright 2017 Google LLC\n",
              "//\n",
              "// Licensed under the Apache License, Version 2.0 (the \"License\");\n",
              "// you may not use this file except in compliance with the License.\n",
              "// You may obtain a copy of the License at\n",
              "//\n",
              "//      http://www.apache.org/licenses/LICENSE-2.0\n",
              "//\n",
              "// Unless required by applicable law or agreed to in writing, software\n",
              "// distributed under the License is distributed on an \"AS IS\" BASIS,\n",
              "// WITHOUT WARRANTIES OR CONDITIONS OF ANY KIND, either express or implied.\n",
              "// See the License for the specific language governing permissions and\n",
              "// limitations under the License.\n",
              "\n",
              "/**\n",
              " * @fileoverview Helpers for google.colab Python module.\n",
              " */\n",
              "(function(scope) {\n",
              "function span(text, styleAttributes = {}) {\n",
              "  const element = document.createElement('span');\n",
              "  element.textContent = text;\n",
              "  for (const key of Object.keys(styleAttributes)) {\n",
              "    element.style[key] = styleAttributes[key];\n",
              "  }\n",
              "  return element;\n",
              "}\n",
              "\n",
              "// Max number of bytes which will be uploaded at a time.\n",
              "const MAX_PAYLOAD_SIZE = 100 * 1024;\n",
              "\n",
              "function _uploadFiles(inputId, outputId) {\n",
              "  const steps = uploadFilesStep(inputId, outputId);\n",
              "  const outputElement = document.getElementById(outputId);\n",
              "  // Cache steps on the outputElement to make it available for the next call\n",
              "  // to uploadFilesContinue from Python.\n",
              "  outputElement.steps = steps;\n",
              "\n",
              "  return _uploadFilesContinue(outputId);\n",
              "}\n",
              "\n",
              "// This is roughly an async generator (not supported in the browser yet),\n",
              "// where there are multiple asynchronous steps and the Python side is going\n",
              "// to poll for completion of each step.\n",
              "// This uses a Promise to block the python side on completion of each step,\n",
              "// then passes the result of the previous step as the input to the next step.\n",
              "function _uploadFilesContinue(outputId) {\n",
              "  const outputElement = document.getElementById(outputId);\n",
              "  const steps = outputElement.steps;\n",
              "\n",
              "  const next = steps.next(outputElement.lastPromiseValue);\n",
              "  return Promise.resolve(next.value.promise).then((value) => {\n",
              "    // Cache the last promise value to make it available to the next\n",
              "    // step of the generator.\n",
              "    outputElement.lastPromiseValue = value;\n",
              "    return next.value.response;\n",
              "  });\n",
              "}\n",
              "\n",
              "/**\n",
              " * Generator function which is called between each async step of the upload\n",
              " * process.\n",
              " * @param {string} inputId Element ID of the input file picker element.\n",
              " * @param {string} outputId Element ID of the output display.\n",
              " * @return {!Iterable<!Object>} Iterable of next steps.\n",
              " */\n",
              "function* uploadFilesStep(inputId, outputId) {\n",
              "  const inputElement = document.getElementById(inputId);\n",
              "  inputElement.disabled = false;\n",
              "\n",
              "  const outputElement = document.getElementById(outputId);\n",
              "  outputElement.innerHTML = '';\n",
              "\n",
              "  const pickedPromise = new Promise((resolve) => {\n",
              "    inputElement.addEventListener('change', (e) => {\n",
              "      resolve(e.target.files);\n",
              "    });\n",
              "  });\n",
              "\n",
              "  const cancel = document.createElement('button');\n",
              "  inputElement.parentElement.appendChild(cancel);\n",
              "  cancel.textContent = 'Cancel upload';\n",
              "  const cancelPromise = new Promise((resolve) => {\n",
              "    cancel.onclick = () => {\n",
              "      resolve(null);\n",
              "    };\n",
              "  });\n",
              "\n",
              "  // Wait for the user to pick the files.\n",
              "  const files = yield {\n",
              "    promise: Promise.race([pickedPromise, cancelPromise]),\n",
              "    response: {\n",
              "      action: 'starting',\n",
              "    }\n",
              "  };\n",
              "\n",
              "  cancel.remove();\n",
              "\n",
              "  // Disable the input element since further picks are not allowed.\n",
              "  inputElement.disabled = true;\n",
              "\n",
              "  if (!files) {\n",
              "    return {\n",
              "      response: {\n",
              "        action: 'complete',\n",
              "      }\n",
              "    };\n",
              "  }\n",
              "\n",
              "  for (const file of files) {\n",
              "    const li = document.createElement('li');\n",
              "    li.append(span(file.name, {fontWeight: 'bold'}));\n",
              "    li.append(span(\n",
              "        `(${file.type || 'n/a'}) - ${file.size} bytes, ` +\n",
              "        `last modified: ${\n",
              "            file.lastModifiedDate ? file.lastModifiedDate.toLocaleDateString() :\n",
              "                                    'n/a'} - `));\n",
              "    const percent = span('0% done');\n",
              "    li.appendChild(percent);\n",
              "\n",
              "    outputElement.appendChild(li);\n",
              "\n",
              "    const fileDataPromise = new Promise((resolve) => {\n",
              "      const reader = new FileReader();\n",
              "      reader.onload = (e) => {\n",
              "        resolve(e.target.result);\n",
              "      };\n",
              "      reader.readAsArrayBuffer(file);\n",
              "    });\n",
              "    // Wait for the data to be ready.\n",
              "    let fileData = yield {\n",
              "      promise: fileDataPromise,\n",
              "      response: {\n",
              "        action: 'continue',\n",
              "      }\n",
              "    };\n",
              "\n",
              "    // Use a chunked sending to avoid message size limits. See b/62115660.\n",
              "    let position = 0;\n",
              "    do {\n",
              "      const length = Math.min(fileData.byteLength - position, MAX_PAYLOAD_SIZE);\n",
              "      const chunk = new Uint8Array(fileData, position, length);\n",
              "      position += length;\n",
              "\n",
              "      const base64 = btoa(String.fromCharCode.apply(null, chunk));\n",
              "      yield {\n",
              "        response: {\n",
              "          action: 'append',\n",
              "          file: file.name,\n",
              "          data: base64,\n",
              "        },\n",
              "      };\n",
              "\n",
              "      let percentDone = fileData.byteLength === 0 ?\n",
              "          100 :\n",
              "          Math.round((position / fileData.byteLength) * 100);\n",
              "      percent.textContent = `${percentDone}% done`;\n",
              "\n",
              "    } while (position < fileData.byteLength);\n",
              "  }\n",
              "\n",
              "  // All done.\n",
              "  yield {\n",
              "    response: {\n",
              "      action: 'complete',\n",
              "    }\n",
              "  };\n",
              "}\n",
              "\n",
              "scope.google = scope.google || {};\n",
              "scope.google.colab = scope.google.colab || {};\n",
              "scope.google.colab._files = {\n",
              "  _uploadFiles,\n",
              "  _uploadFilesContinue,\n",
              "};\n",
              "})(self);\n",
              "</script> "
            ]
          },
          "metadata": {}
        },
        {
          "output_type": "stream",
          "name": "stdout",
          "text": [
            "Saving kaggle.json to kaggle.json\n"
          ]
        },
        {
          "output_type": "execute_result",
          "data": {
            "text/plain": [
              "{'kaggle.json': b'{\"username\":\"raminnourizadeh\",\"key\":\"5a223446fe96a84078ae5fff7531bf78\"}'}"
            ]
          },
          "metadata": {},
          "execution_count": 3
        }
      ]
    },
    {
      "cell_type": "code",
      "source": [
        "! mkdir ~/.kaggle"
      ],
      "metadata": {
        "id": "skBjui6VOX3N"
      },
      "execution_count": 4,
      "outputs": []
    },
    {
      "cell_type": "code",
      "source": [
        "! cp kaggle.json ~/.kaggle/"
      ],
      "metadata": {
        "id": "ioZpwiO5OanU"
      },
      "execution_count": 5,
      "outputs": []
    },
    {
      "cell_type": "code",
      "source": [
        "! chmod 600 ~/.kaggle/kaggle.json"
      ],
      "metadata": {
        "id": "7p3H_dWrOdVk"
      },
      "execution_count": 6,
      "outputs": []
    },
    {
      "cell_type": "code",
      "source": [
        "! kaggle datasets list"
      ],
      "metadata": {
        "id": "sa0cGsZXOgxK",
        "outputId": "08be6a42-44e4-496e-b2d0-8f35dfc60f26",
        "colab": {
          "base_uri": "https://localhost:8080/"
        }
      },
      "execution_count": 7,
      "outputs": [
        {
          "output_type": "stream",
          "name": "stdout",
          "text": [
            "Warning: Looks like you're using an outdated API Version, please consider updating (server 1.6.7 / client 1.5.16)\n",
            "ref                                         title                              size  lastUpdated          downloadCount  voteCount  usabilityRating  \n",
            "------------------------------------------  --------------------------------  -----  -------------------  -------------  ---------  ---------------  \n",
            "syedanwarafridi/vehicle-sales-data          Vehicle Sales Data                 19MB  2024-02-21 20:16:17          11742        221  1.0              \n",
            "sudarshan24byte/online-food-dataset         Online Food Dataset                 3KB  2024-03-02 18:50:30           1688         29  0.9411765        \n",
            "arnavvvvv/spotify-music                     Top Spotify Songs                  47KB  2024-03-06 05:20:29           2704         49  1.0              \n",
            "tarunrm09/climate-change-indicators         Climate change Indicators          34KB  2024-02-22 08:53:54           6187        133  1.0              \n",
            "nbroad/gemma-rewrite-nbroad                 gemma-rewrite-nbroad                8MB  2024-03-03 04:52:39            588         60  1.0              \n",
            "bhavikjikadara/student-study-performance    Student Study Performance           9KB  2024-03-07 06:14:09           1687         42  1.0              \n",
            "arnavvvvv/netflix-movies-and-tv-shows       Netflix Movies and TV Shows         1MB  2024-03-04 15:49:29           2517         50  1.0              \n",
            "yaminh/smartphone-sale-dataset              Smartphones Sales Dataset          65KB  2024-03-03 16:48:27           2533         35  0.88235295       \n",
            "sumanthnimmagadda/student-spending-dataset  Student spending habits dataset.   29KB  2024-03-05 15:01:06           1706         26  0.9411765        \n",
            "arnavvvvv/pokemon-pokedex                   Pokemon Pokedex with Stats         21KB  2024-03-10 11:57:55            548         29  1.0              \n",
            "mikhail1681/walmart-sales                   Walmart Sales                     122KB  2024-02-13 17:35:56           7367        101  1.0              \n",
            "l3llff/banana                               🍌 | Banana Quality                271KB  2024-03-03 12:20:13           2110         43  1.0              \n",
            "mahad049/heart-health-stats-dataset         Heart Health Stats Dataset          5KB  2024-02-26 17:44:27            875         21  0.88235295       \n",
            "zain280/data-science-salaries               Data Science Salaries               7KB  2024-02-27 13:26:58           1568         29  1.0              \n",
            "nelgiriyewithana/emotions                   Emotions                           16MB  2024-02-05 16:01:39           6963        183  1.0              \n",
            "nartaa/features-head-starter-models         Features+Head Starter Models        3GB  2024-03-11 20:44:27            203         10  1.0              \n",
            "simaanjali/emotion-analysis-based-on-text   emotion analysis based on text     32MB  2024-03-05 04:12:15            514         30  1.0              \n",
            "ayushchandramaurya/credit-card-spendings    Credit Card Spendings             319KB  2024-03-05 07:54:20            989         37  1.0              \n",
            "mahad049/job-placement-dataset              Job placement dataset               6KB  2024-03-03 08:18:12           1980         38  0.9411765        \n",
            "ehababoelnaga/multiple-disease-prediction   Multiple Disease Prediction       285KB  2024-03-03 16:46:22           1139         27  0.9411765        \n"
          ]
        }
      ]
    },
    {
      "cell_type": "code",
      "source": [
        "!kaggle datasets download -d bahoho/alzheimer-derivative-ds004504"
      ],
      "metadata": {
        "id": "olgKy29nOmGh",
        "outputId": "e0507148-c2c3-48f9-c6d1-77f197f113d2",
        "colab": {
          "base_uri": "https://localhost:8080/"
        }
      },
      "execution_count": 8,
      "outputs": [
        {
          "output_type": "stream",
          "name": "stdout",
          "text": [
            "Downloading alzheimer-derivative-ds004504.zip to /content\n",
            "100% 2.36G/2.37G [00:28<00:00, 125MB/s]\n",
            "100% 2.37G/2.37G [00:28<00:00, 90.0MB/s]\n"
          ]
        }
      ]
    },
    {
      "cell_type": "code",
      "source": [
        "! mkdir train"
      ],
      "metadata": {
        "id": "54aWkPtuOxDa"
      },
      "execution_count": 9,
      "outputs": []
    },
    {
      "cell_type": "code",
      "source": [
        "! unzip '/content/alzheimer-derivative-ds004504.zip' -d train\n",
        "\n"
      ],
      "metadata": {
        "id": "dCGLOJheO8AV",
        "outputId": "e4fbbce1-8dbb-4b88-8abf-5991bc096bad",
        "colab": {
          "base_uri": "https://localhost:8080/"
        }
      },
      "execution_count": 10,
      "outputs": [
        {
          "output_type": "stream",
          "name": "stdout",
          "text": [
            "Archive:  /content/alzheimer-derivative-ds004504.zip\n",
            "  inflating: train/derivatives/sub-001/eeg/sub-001_task-eyesclosed_eeg.set  \n",
            "  inflating: train/derivatives/sub-002/eeg/sub-002_task-eyesclosed_eeg.set  \n",
            "  inflating: train/derivatives/sub-003/eeg/sub-003_task-eyesclosed_eeg.set  \n",
            "  inflating: train/derivatives/sub-004/eeg/sub-004_task-eyesclosed_eeg.set  \n",
            "  inflating: train/derivatives/sub-005/eeg/sub-005_task-eyesclosed_eeg.set  \n",
            "  inflating: train/derivatives/sub-006/eeg/sub-006_task-eyesclosed_eeg.set  \n",
            "  inflating: train/derivatives/sub-007/eeg/sub-007_task-eyesclosed_eeg.set  \n",
            "  inflating: train/derivatives/sub-008/eeg/sub-008_task-eyesclosed_eeg.set  \n",
            "  inflating: train/derivatives/sub-009/eeg/sub-009_task-eyesclosed_eeg.set  \n",
            "  inflating: train/derivatives/sub-010/eeg/sub-010_task-eyesclosed_eeg.set  \n",
            "  inflating: train/derivatives/sub-011/eeg/sub-011_task-eyesclosed_eeg.set  \n",
            "  inflating: train/derivatives/sub-012/eeg/sub-012_task-eyesclosed_eeg.set  \n",
            "  inflating: train/derivatives/sub-013/eeg/sub-013_task-eyesclosed_eeg.set  \n",
            "  inflating: train/derivatives/sub-014/eeg/sub-014_task-eyesclosed_eeg.set  \n",
            "  inflating: train/derivatives/sub-015/eeg/sub-015_task-eyesclosed_eeg.set  \n",
            "  inflating: train/derivatives/sub-016/eeg/sub-016_task-eyesclosed_eeg.set  \n",
            "  inflating: train/derivatives/sub-017/eeg/sub-017_task-eyesclosed_eeg.set  \n",
            "  inflating: train/derivatives/sub-018/eeg/sub-018_task-eyesclosed_eeg.set  \n",
            "  inflating: train/derivatives/sub-019/eeg/sub-019_task-eyesclosed_eeg.set  \n",
            "  inflating: train/derivatives/sub-020/eeg/sub-020_task-eyesclosed_eeg.set  \n",
            "  inflating: train/derivatives/sub-021/eeg/sub-021_task-eyesclosed_eeg.set  \n",
            "  inflating: train/derivatives/sub-022/eeg/sub-022_task-eyesclosed_eeg.set  \n",
            "  inflating: train/derivatives/sub-023/eeg/sub-023_task-eyesclosed_eeg.set  \n",
            "  inflating: train/derivatives/sub-024/eeg/sub-024_task-eyesclosed_eeg.set  \n",
            "  inflating: train/derivatives/sub-025/eeg/sub-025_task-eyesclosed_eeg.set  \n",
            "  inflating: train/derivatives/sub-026/eeg/sub-026_task-eyesclosed_eeg.set  \n",
            "  inflating: train/derivatives/sub-027/eeg/sub-027_task-eyesclosed_eeg.set  \n",
            "  inflating: train/derivatives/sub-028/eeg/sub-028_task-eyesclosed_eeg.set  \n",
            "  inflating: train/derivatives/sub-029/eeg/sub-029_task-eyesclosed_eeg.set  \n",
            "  inflating: train/derivatives/sub-030/eeg/sub-030_task-eyesclosed_eeg.set  \n",
            "  inflating: train/derivatives/sub-031/eeg/sub-031_task-eyesclosed_eeg.set  \n",
            "  inflating: train/derivatives/sub-032/eeg/sub-032_task-eyesclosed_eeg.set  \n",
            "  inflating: train/derivatives/sub-033/eeg/sub-033_task-eyesclosed_eeg.set  \n",
            "  inflating: train/derivatives/sub-034/eeg/sub-034_task-eyesclosed_eeg.set  \n",
            "  inflating: train/derivatives/sub-035/eeg/sub-035_task-eyesclosed_eeg.set  \n",
            "  inflating: train/derivatives/sub-036/eeg/sub-036_task-eyesclosed_eeg.set  \n",
            "  inflating: train/derivatives/sub-037/eeg/sub-037_task-eyesclosed_eeg.set  \n",
            "  inflating: train/derivatives/sub-038/eeg/sub-038_task-eyesclosed_eeg.set  \n",
            "  inflating: train/derivatives/sub-039/eeg/sub-039_task-eyesclosed_eeg.set  \n",
            "  inflating: train/derivatives/sub-040/eeg/sub-040_task-eyesclosed_eeg.set  \n",
            "  inflating: train/derivatives/sub-041/eeg/sub-041_task-eyesclosed_eeg.set  \n",
            "  inflating: train/derivatives/sub-042/eeg/sub-042_task-eyesclosed_eeg.set  \n",
            "  inflating: train/derivatives/sub-043/eeg/sub-043_task-eyesclosed_eeg.set  \n",
            "  inflating: train/derivatives/sub-044/eeg/sub-044_task-eyesclosed_eeg.set  \n",
            "  inflating: train/derivatives/sub-045/eeg/sub-045_task-eyesclosed_eeg.set  \n",
            "  inflating: train/derivatives/sub-046/eeg/sub-046_task-eyesclosed_eeg.set  \n",
            "  inflating: train/derivatives/sub-047/eeg/sub-047_task-eyesclosed_eeg.set  \n",
            "  inflating: train/derivatives/sub-048/eeg/sub-048_task-eyesclosed_eeg.set  \n",
            "  inflating: train/derivatives/sub-049/eeg/sub-049_task-eyesclosed_eeg.set  \n",
            "  inflating: train/derivatives/sub-050/eeg/sub-050_task-eyesclosed_eeg.set  \n",
            "  inflating: train/derivatives/sub-051/eeg/sub-051_task-eyesclosed_eeg.set  \n",
            "  inflating: train/derivatives/sub-052/eeg/sub-052_task-eyesclosed_eeg.set  \n",
            "  inflating: train/derivatives/sub-053/eeg/sub-053_task-eyesclosed_eeg.set  \n",
            "  inflating: train/derivatives/sub-054/eeg/sub-054_task-eyesclosed_eeg.set  \n",
            "  inflating: train/derivatives/sub-055/eeg/sub-055_task-eyesclosed_eeg.set  \n",
            "  inflating: train/derivatives/sub-056/eeg/sub-056_task-eyesclosed_eeg.set  \n",
            "  inflating: train/derivatives/sub-057/eeg/sub-057_task-eyesclosed_eeg.set  \n",
            "  inflating: train/derivatives/sub-058/eeg/sub-058_task-eyesclosed_eeg.set  \n",
            "  inflating: train/derivatives/sub-059/eeg/sub-059_task-eyesclosed_eeg.set  \n",
            "  inflating: train/derivatives/sub-060/eeg/sub-060_task-eyesclosed_eeg.set  \n",
            "  inflating: train/derivatives/sub-061/eeg/sub-061_task-eyesclosed_eeg.set  \n",
            "  inflating: train/derivatives/sub-062/eeg/sub-062_task-eyesclosed_eeg.set  \n",
            "  inflating: train/derivatives/sub-063/eeg/sub-063_task-eyesclosed_eeg.set  \n",
            "  inflating: train/derivatives/sub-064/eeg/sub-064_task-eyesclosed_eeg.set  \n",
            "  inflating: train/derivatives/sub-065/eeg/sub-065_task-eyesclosed_eeg.set  \n",
            "  inflating: train/derivatives/sub-066/eeg/sub-066_task-eyesclosed_eeg.set  \n",
            "  inflating: train/derivatives/sub-067/eeg/sub-067_task-eyesclosed_eeg.set  \n",
            "  inflating: train/derivatives/sub-068/eeg/sub-068_task-eyesclosed_eeg.set  \n",
            "  inflating: train/derivatives/sub-069/eeg/sub-069_task-eyesclosed_eeg.set  \n",
            "  inflating: train/derivatives/sub-070/eeg/sub-070_task-eyesclosed_eeg.set  \n",
            "  inflating: train/derivatives/sub-071/eeg/sub-071_task-eyesclosed_eeg.set  \n",
            "  inflating: train/derivatives/sub-072/eeg/sub-072_task-eyesclosed_eeg.set  \n",
            "  inflating: train/derivatives/sub-073/eeg/sub-073_task-eyesclosed_eeg.set  \n",
            "  inflating: train/derivatives/sub-074/eeg/sub-074_task-eyesclosed_eeg.set  \n",
            "  inflating: train/derivatives/sub-075/eeg/sub-075_task-eyesclosed_eeg.set  \n",
            "  inflating: train/derivatives/sub-076/eeg/sub-076_task-eyesclosed_eeg.set  \n",
            "  inflating: train/derivatives/sub-077/eeg/sub-077_task-eyesclosed_eeg.set  \n",
            "  inflating: train/derivatives/sub-078/eeg/sub-078_task-eyesclosed_eeg.set  \n",
            "  inflating: train/derivatives/sub-079/eeg/sub-079_task-eyesclosed_eeg.set  \n",
            "  inflating: train/derivatives/sub-080/eeg/sub-080_task-eyesclosed_eeg.set  \n",
            "  inflating: train/derivatives/sub-081/eeg/sub-081_task-eyesclosed_eeg.set  \n",
            "  inflating: train/derivatives/sub-082/eeg/sub-082_task-eyesclosed_eeg.set  \n",
            "  inflating: train/derivatives/sub-083/eeg/sub-083_task-eyesclosed_eeg.set  \n",
            "  inflating: train/derivatives/sub-084/eeg/sub-084_task-eyesclosed_eeg.set  \n",
            "  inflating: train/derivatives/sub-085/eeg/sub-085_task-eyesclosed_eeg.set  \n",
            "  inflating: train/derivatives/sub-086/eeg/sub-086_task-eyesclosed_eeg.set  \n",
            "  inflating: train/derivatives/sub-087/eeg/sub-087_task-eyesclosed_eeg.set  \n",
            "  inflating: train/derivatives/sub-088/eeg/sub-088_task-eyesclosed_eeg.set  \n"
          ]
        }
      ]
    },
    {
      "cell_type": "code",
      "source": [
        "import os\n",
        "import mne"
      ],
      "metadata": {
        "id": "-XkCEUC8aaOb"
      },
      "execution_count": 11,
      "outputs": []
    },
    {
      "cell_type": "code",
      "source": [
        "directory_path = '/content/train/derivatives'\n",
        "files_and_directories =  os.listdir(directory_path)\n",
        "directories=[d for d in files_and_directories if os.path.isdir(os.path.join(directory_path, d)) and d.startswith('sub')]\n"
      ],
      "metadata": {
        "id": "qqNmazOzbGV1"
      },
      "execution_count": 12,
      "outputs": []
    },
    {
      "cell_type": "code",
      "source": [
        "directories"
      ],
      "metadata": {
        "colab": {
          "base_uri": "https://localhost:8080/"
        },
        "id": "i4MB8HjGcgZ1",
        "outputId": "3eeca1ee-c6fc-47bc-c1e4-7af27d9fae62"
      },
      "execution_count": 13,
      "outputs": [
        {
          "output_type": "execute_result",
          "data": {
            "text/plain": [
              "['sub-031',\n",
              " 'sub-011',\n",
              " 'sub-078',\n",
              " 'sub-065',\n",
              " 'sub-023',\n",
              " 'sub-007',\n",
              " 'sub-066',\n",
              " 'sub-044',\n",
              " 'sub-042',\n",
              " 'sub-033',\n",
              " 'sub-045',\n",
              " 'sub-037',\n",
              " 'sub-028',\n",
              " 'sub-041',\n",
              " 'sub-038',\n",
              " 'sub-057',\n",
              " 'sub-005',\n",
              " 'sub-013',\n",
              " 'sub-080',\n",
              " 'sub-081',\n",
              " 'sub-040',\n",
              " 'sub-075',\n",
              " 'sub-061',\n",
              " 'sub-049',\n",
              " 'sub-050',\n",
              " 'sub-067',\n",
              " 'sub-063',\n",
              " 'sub-026',\n",
              " 'sub-060',\n",
              " 'sub-030',\n",
              " 'sub-052',\n",
              " 'sub-059',\n",
              " 'sub-085',\n",
              " 'sub-082',\n",
              " 'sub-055',\n",
              " 'sub-043',\n",
              " 'sub-083',\n",
              " 'sub-024',\n",
              " 'sub-012',\n",
              " 'sub-001',\n",
              " 'sub-021',\n",
              " 'sub-074',\n",
              " 'sub-068',\n",
              " 'sub-022',\n",
              " 'sub-056',\n",
              " 'sub-046',\n",
              " 'sub-087',\n",
              " 'sub-088',\n",
              " 'sub-054',\n",
              " 'sub-004',\n",
              " 'sub-003',\n",
              " 'sub-064',\n",
              " 'sub-071',\n",
              " 'sub-084',\n",
              " 'sub-019',\n",
              " 'sub-079',\n",
              " 'sub-072',\n",
              " 'sub-069',\n",
              " 'sub-036',\n",
              " 'sub-016',\n",
              " 'sub-086',\n",
              " 'sub-025',\n",
              " 'sub-034',\n",
              " 'sub-039',\n",
              " 'sub-029',\n",
              " 'sub-010',\n",
              " 'sub-020',\n",
              " 'sub-018',\n",
              " 'sub-051',\n",
              " 'sub-053',\n",
              " 'sub-047',\n",
              " 'sub-002',\n",
              " 'sub-017',\n",
              " 'sub-062',\n",
              " 'sub-027',\n",
              " 'sub-073',\n",
              " 'sub-015',\n",
              " 'sub-058',\n",
              " 'sub-006',\n",
              " 'sub-009',\n",
              " 'sub-070',\n",
              " 'sub-035',\n",
              " 'sub-077',\n",
              " 'sub-048',\n",
              " 'sub-076',\n",
              " 'sub-014',\n",
              " 'sub-008',\n",
              " 'sub-032']"
            ]
          },
          "metadata": {},
          "execution_count": 13
        }
      ]
    },
    {
      "cell_type": "code",
      "source": [
        "EEG = mne.io.read_raw_eeglab('/content/train/derivatives/sub-001/eeg/sub-001_task-eyesclosed_eeg.set',preload=True)\n"
      ],
      "metadata": {
        "id": "Bmrsx9l6jhKa"
      },
      "execution_count": 18,
      "outputs": []
    },
    {
      "cell_type": "code",
      "source": [
        "EEG"
      ],
      "metadata": {
        "id": "b3hmSoxXQbtq",
        "outputId": "04d721a7-e9ac-4565-d902-0f441be55350",
        "colab": {
          "base_uri": "https://localhost:8080/",
          "height": 353
        }
      },
      "execution_count": 17,
      "outputs": [
        {
          "output_type": "execute_result",
          "data": {
            "text/plain": [
              "<RawEEGLAB | sub-001_task-eyesclosed_eeg.set, 19 x 299900 (599.8 s), ~43.5 MB, data loaded>"
            ],
            "text/html": [
              "<details open>\n",
              "    <summary><strong>General</strong></summary>\n",
              "    <table class=\"table table-hover table-striped table-sm table-responsive small\">\n",
              "        <tr>\n",
              "            <th>Measurement date</th>\n",
              "            \n",
              "            <td>Unknown</td>\n",
              "            \n",
              "        </tr>\n",
              "        <tr>\n",
              "            <th>Experimenter</th>\n",
              "            \n",
              "            <td>Unknown</td>\n",
              "            \n",
              "        </tr>\n",
              "        <tr>\n",
              "            <th>Participant</th>\n",
              "            \n",
              "            <td>Unknown</td>\n",
              "            \n",
              "        </tr>\n",
              "    </table>\n",
              "    </details>\n",
              "    <details open>\n",
              "        <summary><strong>Channels</strong></summary>\n",
              "        <table class=\"table table-hover table-striped table-sm table-responsive small\">\n",
              "            <tr>\n",
              "                <th>Digitized points</th>\n",
              "                \n",
              "                <td>22 points</td>\n",
              "                \n",
              "            </tr>\n",
              "            <tr>\n",
              "                <th>Good channels</th>\n",
              "                <td>19 EEG</td>\n",
              "            </tr>\n",
              "            <tr>\n",
              "                <th>Bad channels</th>\n",
              "                <td>None</td>\n",
              "            </tr>\n",
              "            <tr>\n",
              "                <th>EOG channels</th>\n",
              "                <td>Not available</td>\n",
              "            </tr>\n",
              "            <tr>\n",
              "                <th>ECG channels</th>\n",
              "                <td>Not available</td>\n",
              "            </tr>\n",
              "        </table>\n",
              "        </details>\n",
              "        <details open>\n",
              "            <summary><strong>Data</strong></summary>\n",
              "            <table class=\"table table-hover table-striped table-sm table-responsive small\">\n",
              "                \n",
              "                <tr>\n",
              "                    <th>Sampling frequency</th>\n",
              "                    <td>500.00 Hz</td>\n",
              "                </tr>\n",
              "                \n",
              "                \n",
              "                <tr>\n",
              "                    <th>Highpass</th>\n",
              "                    <td>0.00 Hz</td>\n",
              "                </tr>\n",
              "                \n",
              "                \n",
              "                <tr>\n",
              "                    <th>Lowpass</th>\n",
              "                    <td>250.00 Hz</td>\n",
              "                </tr>\n",
              "                \n",
              "                \n",
              "                \n",
              "                <tr>\n",
              "                    <th>Filenames</th>\n",
              "                    <td>sub-001_task-eyesclosed_eeg.set</td>\n",
              "                </tr>\n",
              "                \n",
              "                \n",
              "                <tr>\n",
              "                    <th>Duration</th>\n",
              "                    <td>00:09:60 (HH:MM:SS)</td>\n",
              "                </tr>\n",
              "                \n",
              "            </table>\n",
              "            </details>"
            ]
          },
          "metadata": {},
          "execution_count": 17
        }
      ]
    },
    {
      "cell_type": "code",
      "source": [
        "for i in range(len(directories)):\n",
        "    setfilepath = directory_path + '/' + directories[i]+'/eeg/'\n",
        "    print(setfilepath)\n",
        "    EEG = mne.io.read_raw_eeglab(setfilepath)\n",
        "    EEG.set_eeg_reference(ref_channels=None)\n",
        "    EEG.save(os.path.join(setpath5, setname))\n",
        "    print(f\"Processed {setname} and saved to {setpath5}\")\n"
      ],
      "metadata": {
        "id": "yA4T7CAecLVG"
      },
      "execution_count": null,
      "outputs": []
    }
  ]
}